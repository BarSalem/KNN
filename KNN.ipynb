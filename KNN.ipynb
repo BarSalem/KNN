{
 "cells": [
  {
   "cell_type": "markdown",
   "metadata": {
    "deletable": false,
    "editable": false,
    "nbgrader": {
     "cell_type": "markdown",
     "checksum": "c8cd039776dd44fef1663f5c441fe946",
     "grade": false,
     "grade_id": "cell-39040f5823493172",
     "locked": true,
     "schema_version": 3,
     "solution": false,
     "task": false
    }
   },
   "source": [
    "<a id=\"home\"></a>\n",
    "## Assignment 2 - KNN\n",
    "This assignment has ... parts. Follow the instructions in each section.\n",
    "\n",
    "| Section| About | Section-name | points | \n",
    "| :- | :- | :- |  :- | \n",
    "| (i) | Learning  Materials |  [Materials to review for this assignment](#review_materials)\n",
    "| (ii) | Guidelines | [General assignment instructions](#gen_instructions) | \n",
    "| 1 |  Imports | [Import packages](#Imports) | \n",
    "| 2 |  Your personal details | [Student info](#student_info) | 0.5 |\n",
    "| 3 |  Get Task Data | [info: YOUR personal implementation tasks](#your_implementation) | \n",
    "| 4 |  Load Data Set | [Load the dataset](#load_dataset) | 1.5 | \n",
    "| 5 |  Scale the Data | [Scaling](#scaling) | 2.5 |\n",
    "| 6 |  Calculate Distances | [Calculate Test,Train Distance](#dist) | 2 | \n",
    "| 7 |  Predict | [KNN main flow - predict](#predict) | 2 |\n",
    "| 8 |  Model Evaluation | [Model Evaluation](#evaluation) | 1.5 |\n",
    "| - | Total Points | | 10 |"
   ]
  },
  {
   "cell_type": "markdown",
   "metadata": {
    "ExecuteTime": {
     "end_time": "2021-11-12T12:31:26.701823Z",
     "start_time": "2021-11-12T12:31:26.692830Z"
    },
    "deletable": false,
    "editable": false,
    "nbgrader": {
     "cell_type": "markdown",
     "checksum": "04d466980e4c54ed821bcf2e5fd48d84",
     "grade": false,
     "grade_id": "cell-5e95664c94aead9f",
     "locked": true,
     "schema_version": 3,
     "solution": false,
     "task": false
    }
   },
   "source": [
    "<a id=\"review_materials\"></a>\n",
    "### (i) Materials to review for this assignment\n",
    "<h4>From Moodle:</h4> \n",
    "<h5><u>Review the notebooks regarding the following python topics</u>:</h5>\n",
    "<div class=\"alert alert-info\">\n",
    "&#x2714; Brief review: <b>Basic Python</b>.<br/>\n",
    "&#x2714; Thorough review: <b>The NumPy module</b><br/>\n",
    "&#x2714; Thorough review: <b>The Pandas module</b> (both parts)<br/>\n",
    "</div> \n",
    "<h5><u>Review the presentations regarding the following topics</u>:</h5>\n",
    "<div class=\"alert alert-info\">\n",
    "&#x2714; <b>Statistical intro. and scaling presentation</b><br/>\n",
    "&#x2714; <b>The KNN algorithm presentation</b><br/>\n",
    "&#x2714; <b>Naive Bayes and model evaluation presentation</b>(you need the model evaluation part here)<br/>\n",
    "</div>"
   ]
  },
  {
   "cell_type": "markdown",
   "metadata": {
    "deletable": false,
    "editable": false,
    "nbgrader": {
     "cell_type": "markdown",
     "checksum": "a45c1df27f4716057f4f8a5ca73a137a",
     "grade": false,
     "grade_id": "cell-656f63bae581d126",
     "locked": true,
     "schema_version": 3,
     "solution": false,
     "task": false
    }
   },
   "source": [
    "[Go to the beginning of the assignment](#home)\n",
    "<a id=\"gen_instructions\"></a>\n",
    "### (ii) General assignment instructions\n",
    "#### Working on the assignment, todo and not todo:\n",
    "<b><u>Todo</u></b>:<br />\n",
    "<div class=\"alert alert-success\">\n",
    "<ul>\n",
    "<li>&#x2714; Use <b> Jupyter Notebook </b>.</li>\n",
    "<li>&#x2714; <b> Work by yourself</b> and submit your own assignment, <b>no pairing</b> to other students</li>\n",
    "<li>&#x2714; Test and save your assignment - <b>submit the last tested and saved version</b></li>\n",
    "<li>&#x2714; Work on the <b>original notebook</b> of the assignment</li>\n",
    "<li>&#x2714; Run the code cells by their original order</li>\n",
    "<li>&#x2714; submit <b>only</b> the <b>notebook (Assignment2_KNN.ipynb)</b> file (no name changing)</li></ul>\n",
    "</div>\n",
    "<b><u>Not todo</u></b>:<br />\n",
    "<div class=\"alert alert-danger\">\n",
    "<ul>\n",
    "<li>&#x2718; <b>do NOT use Google Collaboratory</b> </li>\n",
    "<li>&#x2718; do <b>NOT</b> submit an <b>empty assignment</b></li>\n",
    "<li>&#x2718; do <b>NOT submit extra files</b>, <u>unless you're asked to do so</u></li>\n",
    "<li>&#x2718; <b>Do NOT submit a .py/.txt/.rar/.zip (or any non (.ipynb) file)</b> <u>version for the notebook</u> of the assignment</li>\n",
    "<li>&#x2718; <b>do NOT change</b> the notebook file name</li>\n",
    "</ul>\n",
    "</div>"
   ]
  },
  {
   "cell_type": "markdown",
   "metadata": {
    "deletable": false,
    "editable": false,
    "nbgrader": {
     "cell_type": "markdown",
     "checksum": "8af157889f3169f5920266d2933828b0",
     "grade": false,
     "grade_id": "cell-b4e2d92f2834c61d",
     "locked": true,
     "schema_version": 3,
     "solution": false,
     "task": false
    }
   },
   "source": [
    "<b>Your implementations are performed in the 'Answer code cell's as following</b>:<br/>\n",
    "<div class=\"alert alert-success\">\n",
    "&#x2714; Your code starts one line after the '<code># YOUR CODE HERE</code>' remark<br/>\n",
    "&#x2714; Implemented code<br/>\n",
    "&#x2714; returned expected value<br/><br/>\n",
    "<b><u>Your code should look like this</u><b>:</div>\n",
    "<code># 5. function_name (your solution)\n",
    "# ====>>> YOUR ACTIONS: IMPLEMENT & RUN \n",
    "\n",
    "def method_to_implement():\n",
    "    # YOUR CODE HERE\n",
    "    your implemented code ...\n",
    "</code>"
   ]
  },
  {
   "cell_type": "markdown",
   "metadata": {
    "deletable": false,
    "editable": false,
    "nbgrader": {
     "cell_type": "markdown",
     "checksum": "08f5a4961f2f74760ee985a2154c4e36",
     "grade": false,
     "grade_id": "cell-ac7cb5ef8a6c1911",
     "locked": true,
     "schema_version": 3,
     "solution": false,
     "task": false
    }
   },
   "source": [
    "[Go to the beginning of the assignment](#home)\n",
    "<a id=\"Imports\"></a>\n",
    "### 1. import modules (packages)\n",
    "This step is necessary in order to use external modules (packages). <br/>\n",
    "<div class=\"alert alert-success\">\n",
    "&#x2714; Any module or package imported in the following code cell are permitted\n",
    "</div>\n",
    "<div class=\"alert alert-danger\">\n",
    "&#x2718; Any other modules or packages are ILLEGAL\n",
    "</div>\n",
    "\n",
    "##### 1. IMPORT MODULES - Run the following code cell:"
   ]
  },
  {
   "cell_type": "code",
   "execution_count": 50,
   "metadata": {
    "ExecuteTime": {
     "end_time": "2021-11-16T17:59:51.560444Z",
     "start_time": "2021-11-16T17:59:50.974151Z"
    },
    "deletable": false,
    "editable": false,
    "nbgrader": {
     "cell_type": "code",
     "checksum": "bbdd3ae83d9944af6ce73cec3e568caf",
     "grade": false,
     "grade_id": "run_import_packages",
     "locked": true,
     "schema_version": 3,
     "solution": false,
     "task": false
    }
   },
   "outputs": [],
   "source": [
    "# 1. IMPORT MODULES \n",
    "# ====>>> YOUR ACTIONS: RUN ONLY\n",
    "\n",
    "import sys                       # for testing use only\n",
    "import os                        # for testing use only\n",
    "from datetime import datetime    # for testing use only\n",
    "import random                    # for testing use only\n",
    "import hashlib                   # for testing use only\n",
    "import pandas as pd\n",
    "import numpy as np\n",
    "import math \n",
    "import statistics\n",
    "\n",
    "# --------------------------------------\n",
    "# show several outputs in one cell. \n",
    "from IPython.core.interactiveshell import InteractiveShell\n",
    "InteractiveShell.ast_node_interactivity = \"all\"\n",
    "# --------------------------------------"
   ]
  },
  {
   "cell_type": "markdown",
   "metadata": {
    "deletable": false,
    "editable": false,
    "nbgrader": {
     "cell_type": "markdown",
     "checksum": "801c8fdffd61825cf50b47ce0af98a36",
     "grade": false,
     "grade_id": "cell-ef4734152288ab11",
     "locked": true,
     "schema_version": 3,
     "solution": false,
     "task": false
    }
   },
   "source": [
    "[Go to the beginning of the assignment](#home)\n",
    "<a id=\"student_info\"></a>\n",
    "### 2. Student information\n",
    "##### methods to implement:\n",
    "* my_name\n",
    "* my_id"
   ]
  },
  {
   "cell_type": "markdown",
   "metadata": {
    "deletable": false,
    "editable": false,
    "nbgrader": {
     "cell_type": "markdown",
     "checksum": "feddc3d6908860db0c4d5cb521d199ae",
     "grade": false,
     "grade_id": "cell-7ea9f0cf4b365185",
     "locked": true,
     "schema_version": 3,
     "solution": false,
     "task": false
    }
   },
   "source": [
    "#### 2.a. Function: my_name\n",
    "<a id=\"myName\"></a>\n",
    "Implement the function to return your full name (as a string), for example:<br/>\n",
    "<code>    return 'John Smith'</code>\n",
    "##### Implement and Run the following code cell:"
   ]
  },
  {
   "cell_type": "code",
   "execution_count": 51,
   "metadata": {
    "ExecuteTime": {
     "end_time": "2021-11-16T17:59:51.576413Z",
     "start_time": "2021-11-16T17:59:51.562382Z"
    },
    "deletable": false,
    "nbgrader": {
     "cell_type": "code",
     "checksum": "ba388a0260ca1794f6f8063464d76354",
     "grade": false,
     "grade_id": "solution2a-my_name",
     "locked": false,
     "schema_version": 3,
     "solution": true,
     "task": false
    }
   },
   "outputs": [],
   "source": [
    "# 2.a. my_name (your solution)\n",
    "# ====>>> YOUR ACTIONS: IMPLEMENT & RUN \n",
    "\n",
    "def my_name():\n",
    "    return 'Bar Salem'\n",
    "    "
   ]
  },
  {
   "cell_type": "markdown",
   "metadata": {
    "deletable": false,
    "editable": false,
    "nbgrader": {
     "cell_type": "markdown",
     "checksum": "963b6fbc922f94bae970c4e03ea9adc9",
     "grade": false,
     "grade_id": "cell-6b9670c98d6332b2",
     "locked": true,
     "schema_version": 3,
     "solution": false,
     "task": false
    }
   },
   "source": [
    "##### 2.a.  my_name - OPTIONAL SELF TEST -  Implement and Run the following code cell (IF NEEDED):"
   ]
  },
  {
   "cell_type": "code",
   "execution_count": 52,
   "metadata": {
    "ExecuteTime": {
     "end_time": "2021-11-16T17:59:51.592380Z",
     "start_time": "2021-11-16T17:59:51.578379Z"
    },
    "deletable": false,
    "nbgrader": {
     "cell_type": "code",
     "checksum": "7ee2cc9eeb054299f21e42e31293c8d9",
     "grade": false,
     "grade_id": "cell-1ff31f8fe6136755",
     "locked": false,
     "schema_version": 3,
     "solution": true,
     "task": false
    }
   },
   "outputs": [
    {
     "name": "stdout",
     "output_type": "stream",
     "text": [
      "Bar Salem\n"
     ]
    }
   ],
   "source": [
    "# 2.a. my_name (optional self testing)\n",
    "# ====>>> YOUR ACTIONS: (optional) IMPLEMENT & RUN \n",
    "\n",
    "student_name = my_name()\n",
    "# --- add additional code to check your code if needed:\n",
    "# YOUR CODE HERE\n",
    "print(student_name)"
   ]
  },
  {
   "cell_type": "markdown",
   "metadata": {
    "deletable": false,
    "editable": false,
    "nbgrader": {
     "cell_type": "markdown",
     "checksum": "35ad86a9ad9407f5fa19e1d773f27c43",
     "grade": false,
     "grade_id": "cell-f88d183897e519e2",
     "locked": true,
     "schema_version": 3,
     "solution": false,
     "task": false
    }
   },
   "source": [
    "#### 2.b. Function: my_id\n",
    "<a id=\"myName\"></a>\n",
    "Implement the function to return your ID number (as an integer number).<br/>\n",
    "Note: the **id number should be equal to the one in Moodle**, for example:<br/>\n",
    "<code>    return 132468579</code>\n",
    "##### Implement and Run the following code cell:"
   ]
  },
  {
   "cell_type": "code",
   "execution_count": 53,
   "metadata": {
    "ExecuteTime": {
     "end_time": "2021-11-16T17:59:51.608381Z",
     "start_time": "2021-11-16T17:59:51.594382Z"
    },
    "deletable": false,
    "nbgrader": {
     "cell_type": "code",
     "checksum": "0a38288ac17882ef161105b5fec131e3",
     "grade": false,
     "grade_id": "solution2b-my_id",
     "locked": false,
     "schema_version": 3,
     "solution": true,
     "task": false
    }
   },
   "outputs": [],
   "source": [
    "# 2.b. my_id (your solution)\n",
    "# ====>>> YOUR ACTIONS: IMPLEMENT & RUN \n",
    "\n",
    "def my_id():\n",
    "    return 207351784\n",
    "    "
   ]
  },
  {
   "cell_type": "markdown",
   "metadata": {
    "deletable": false,
    "editable": false,
    "nbgrader": {
     "cell_type": "markdown",
     "checksum": "34aea0157718ec93d7a9bfa997ee3f8c",
     "grade": false,
     "grade_id": "cell-cee824cf6ade2443",
     "locked": true,
     "schema_version": 3,
     "solution": false,
     "task": false
    }
   },
   "source": [
    "##### 2.b.  my_id - OPTIONAL SELF TEST -  Implement and Run the following code cell (IF NEEDED):"
   ]
  },
  {
   "cell_type": "code",
   "execution_count": 54,
   "metadata": {
    "ExecuteTime": {
     "end_time": "2021-11-16T17:59:51.624379Z",
     "start_time": "2021-11-16T17:59:51.610380Z"
    },
    "deletable": false,
    "nbgrader": {
     "cell_type": "code",
     "checksum": "31273534458403cbfa0a02d99aa44a8e",
     "grade": false,
     "grade_id": "cell-954293a143438460",
     "locked": false,
     "schema_version": 3,
     "solution": true,
     "task": false
    }
   },
   "outputs": [
    {
     "name": "stdout",
     "output_type": "stream",
     "text": [
      "207351784\n"
     ]
    }
   ],
   "source": [
    "# 2.b. my_id (optional self testing)\n",
    "# ====>>> YOUR ACTIONS: (optional) IMPLEMENT & RUN \n",
    "\n",
    "student_id = my_id()\n",
    "# --- add additional code to check your code if needed:\n",
    "# YOUR CODE HERE\n",
    "print(student_id)"
   ]
  },
  {
   "cell_type": "code",
   "execution_count": 55,
   "metadata": {
    "ExecuteTime": {
     "end_time": "2021-11-16T17:59:51.656412Z",
     "start_time": "2021-11-16T17:59:51.627380Z"
    },
    "deletable": false,
    "editable": false,
    "nbgrader": {
     "cell_type": "code",
     "checksum": "168027006417d488dd33e26c38432f86",
     "grade": true,
     "grade_id": "test2-1_student_info",
     "locked": true,
     "points": 0.5,
     "schema_version": 3,
     "solution": false,
     "task": false
    }
   },
   "outputs": [
    {
     "name": "stdout",
     "output_type": "stream",
     "text": [
      "2. 'my_name' and 'my_id' - Test 1 (name: test2-1_student_info, points: 0.5)\n",
      "\n",
      "Good Job!\n",
      "You've passed the test for the implementation of 'my_name' and 'my_id'  :-)\n",
      "\n",
      "Output dataframe:\n",
      "-----------------\n"
     ]
    },
    {
     "data": {
      "text/html": [
       "<div>\n",
       "<style scoped>\n",
       "    .dataframe tbody tr th:only-of-type {\n",
       "        vertical-align: middle;\n",
       "    }\n",
       "\n",
       "    .dataframe tbody tr th {\n",
       "        vertical-align: top;\n",
       "    }\n",
       "\n",
       "    .dataframe thead th {\n",
       "        text-align: right;\n",
       "    }\n",
       "</style>\n",
       "<table border=\"1\" class=\"dataframe\">\n",
       "  <thead>\n",
       "    <tr style=\"text-align: right;\">\n",
       "      <th></th>\n",
       "      <th>value</th>\n",
       "      <th>type</th>\n",
       "      <th>date_time</th>\n",
       "    </tr>\n",
       "  </thead>\n",
       "  <tbody>\n",
       "    <tr>\n",
       "      <th>student_name</th>\n",
       "      <td>Bar Salem</td>\n",
       "      <td>&lt;class 'str'&gt;</td>\n",
       "      <td>2022-03-20 11:09:05</td>\n",
       "    </tr>\n",
       "    <tr>\n",
       "      <th>student_id</th>\n",
       "      <td>207351784</td>\n",
       "      <td>&lt;class 'int'&gt;</td>\n",
       "      <td>2022-03-20 11:09:05</td>\n",
       "    </tr>\n",
       "  </tbody>\n",
       "</table>\n",
       "</div>"
      ],
      "text/plain": [
       "                  value           type            date_time\n",
       "student_name  Bar Salem  <class 'str'>  2022-03-20 11:09:05\n",
       "student_id    207351784  <class 'int'>  2022-03-20 11:09:05"
      ]
     },
     "execution_count": 55,
     "metadata": {},
     "output_type": "execute_result"
    }
   ],
   "source": [
    "# 2. my_name, my_id (graded test)\n",
    "# ====>>> YOUR ACTIONS: RUN ONLY\n",
    "\n",
    "print (\"2. 'my_name' and 'my_id' - Test 1 (name: test2-1_student_info, points: 0.5)\")\n",
    "\n",
    "# dataframe for output:\n",
    "dt1 = datetime.now()\n",
    "try:\n",
    "    student_name, student_id = my_name(), my_id()\n",
    "except Exception as e:\n",
    "    print ('You probably have a syntax or implementation error,  \\nerror Message:',str(e), '\\nTry fixing your code')\n",
    "    raise\n",
    "\n",
    "assert type(student_name) is str or type(student_id) is int, \"name is not a string or id is not an integer\"\n",
    "\n",
    "s_datetime =  [dt1.strftime('%Y-%m-%d %H:%M:%S'), datetime.now().strftime('%Y-%m-%d %H:%M:%S')]\n",
    "df_output = pd.DataFrame({'value': [student_name, student_id], 'type': [type(student_name), type(student_id)], 'date_time': s_datetime},index=['student_name','student_id'])\n",
    "\n",
    "print (\"\\nGood Job!\\nYou've passed the test for the implementation of 'my_name' and 'my_id'  :-)\")\n",
    "\n",
    "print ('\\nOutput dataframe:')\n",
    "print ('-----------------')\n",
    "df_output"
   ]
  },
  {
   "cell_type": "markdown",
   "metadata": {
    "deletable": false,
    "editable": false,
    "nbgrader": {
     "cell_type": "markdown",
     "checksum": "28d37236f4335316126762a017b514f4",
     "grade": false,
     "grade_id": "cell-8d3a9d5bd8ac1793",
     "locked": true,
     "schema_version": 3,
     "solution": false,
     "task": false
    }
   },
   "source": [
    "[Go to the beginning of the assignment](#home)\n",
    "<a id=\"your_implementation\"></a>\n",
    "### 3. Get Task Data: Your Tasks & PERSONAL IMPLEMENTATIONS\n",
    "##### Run the following code cell:"
   ]
  },
  {
   "cell_type": "code",
   "execution_count": 56,
   "metadata": {
    "ExecuteTime": {
     "end_time": "2021-11-16T17:59:51.672378Z",
     "start_time": "2021-11-16T17:59:51.658378Z"
    },
    "deletable": false,
    "editable": false,
    "nbgrader": {
     "cell_type": "code",
     "checksum": "80d966cec9329c4512c9e18a04de5303",
     "grade": false,
     "grade_id": "personal-implementation-all",
     "locked": true,
     "schema_version": 3,
     "solution": false,
     "task": false
    }
   },
   "outputs": [
    {
     "name": "stdout",
     "output_type": "stream",
     "text": [
      "Assignment 2 - KNN (- 10 points for the assignments):\n",
      "-----------------------\n",
      "What do you need to implement?\n",
      "1.   imports - run only (to load python modules)\n",
      "2.   methods: my_name, my_id - Your personal information (- 0.5 points for the test)\n",
      "3.   personal implementation taks - run only\n",
      "4.   methods: load_dataset - load the dataset (- 1 points for the tests)\n",
      "5.   methods: scale_fit_transform, scale_transform_for_test \n",
      "\t- the scaling type YOU NEED to implement is: 'minmax[-1,1]' (- 2.5 points for the tests)\n",
      "6. methods: calc_distance \n",
      "\t- the distance method YOU NEED to implement is: 'euclidean' (- 2.5 points for the tests)\n",
      "7. methods: predict - KNN predict main flow (- 2 points for the tests)\n",
      "8.   methods: eval_performance \n",
      "\t- the evaluation metric YOU NEED to implement is: 'recall' (- 1.5 points for the tests)\n"
     ]
    }
   ],
   "source": [
    "# 3. Get task data (Your tasks & PESRONAL IMPLEMENTATION INFO)\n",
    "# ====>>> YOUR ACTIONS: RUN ONLY\n",
    "\n",
    "def get_assignment_params(student_id):\n",
    "    num_modulo = 2 ** 31-1\n",
    "    created_1st_state = int(hashlib.md5(str(student_id).encode('utf-8')).hexdigest(),16) % num_modulo\n",
    "    created_2nd_state = int(hashlib.md5(str(created_1st_state).encode('utf-8')).hexdigest(),16) % num_modulo\n",
    "    created_3rd_state = int(hashlib.md5(str(created_2nd_state).encode('utf-8')).hexdigest(),16) % num_modulo\n",
    "    created_4th_state = int(hashlib.md5(str(created_3rd_state).encode('utf-8')).hexdigest(),16) % num_modulo\n",
    "    \n",
    "    scale_types, dist_methods, eval_metrics = ['standardization', 'minmax[0,1]', 'minmax[-1,1]'], ['manhattan', 'euclidean', 'chebyshev'], ['accuracy', 'error_rate', 'precision', 'recall']\n",
    "    \n",
    "    score_cols, o_cols, binary_cols = ['math_score', 'reading_score', 'writing_score'], ['social_grp', 'parent_edu'], np.array(['gender_num', 'lunch_type', 'has_preparations'])\n",
    "    \n",
    "    assignment_params = {}\n",
    "    \n",
    "    random.seed(created_1st_state)\n",
    "    y_col = random.choice(binary_cols)\n",
    "    \n",
    "    assignment_params['num_train1'] = 800\n",
    "    assignment_params['num_train2'] = 80\n",
    "    \n",
    "    assignment_params['y_col'] = y_col\n",
    "    assignment_params['binary_cols'] = list(binary_cols[binary_cols!=y_col])\n",
    "    assignment_params['score_cols'], assignment_params['o_cols'] = score_cols, o_cols\n",
    "    \n",
    "    random.seed(created_2nd_state)  \n",
    "    assignment_params['scale_type'] = random.choice(scale_types)\n",
    "    \n",
    "    random.seed(created_3rd_state)  \n",
    "    assignment_params['dist_method'] = random.choice(dist_methods)\n",
    "    \n",
    "    random.seed(created_4th_state)  \n",
    "    assignment_params['eval_metric'] = random.choice(eval_metrics)\n",
    "    \n",
    "    return assignment_params\n",
    "# ---------------------------\n",
    "try:    \n",
    "    student_name, student_id = my_name(), my_id()\n",
    "except Exception as e:\n",
    "    print ('You probably did not implement student-info functions, \\nerror Message:',str(e))\n",
    "    raise\n",
    "assert type(student_name) is str or type(student_id) is int, \"name is not a string or id is not an integer\"         \n",
    "# ---------------------------\n",
    "assignment_params = get_assignment_params(student_id)\n",
    "# ---------------------------\n",
    "print ('Assignment 2 - KNN (- 10 points for the assignments):')\n",
    "print ('-----------------------')\n",
    "print ('What do you need to implement?')\n",
    "print ('1.   imports - run only (to load python modules)')\n",
    "print ('2.   methods: my_name, my_id - Your personal information (- 0.5 points for the test)')\n",
    "print ('3.   personal implementation taks - run only')\n",
    "print ('4.   methods: load_dataset - load the dataset (- 1 points for the tests)')\n",
    "print (\"5.   methods: scale_fit_transform, scale_transform_for_test \\n\\t- the scaling type YOU NEED to implement is: '\" + assignment_params['scale_type'] + \"' (- 2.5 points for the tests)\")\n",
    "print (\"6. methods: calc_distance \\n\\t- the distance method YOU NEED to implement is: '\" + assignment_params['dist_method'] + \"' (- 2.5 points for the tests)\")\n",
    "print (\"7. methods: predict - KNN predict main flow\" + \" (- 2 points for the tests)\")\n",
    "print (\"8.   methods: eval_performance \\n\\t- the evaluation metric YOU NEED to implement is: '\" + assignment_params['eval_metric'] + \"' (- 1.5 points for the tests)\")"
   ]
  },
  {
   "cell_type": "markdown",
   "metadata": {
    "deletable": false,
    "editable": false,
    "nbgrader": {
     "cell_type": "markdown",
     "checksum": "deac87e3400e1e9452634004a617eb9b",
     "grade": false,
     "grade_id": "cell-370f63fcef515053",
     "locked": true,
     "schema_version": 3,
     "solution": false,
     "task": false
    }
   },
   "source": [
    "[Go to the beginning of the assignment](#home)\n",
    "<a id=\"load_dataset\"></a>\n",
    "### 4. Load dataset\n",
    "##### methods to implement:\n",
    "* load_dataset"
   ]
  },
  {
   "cell_type": "markdown",
   "metadata": {
    "deletable": false,
    "editable": false,
    "nbgrader": {
     "cell_type": "markdown",
     "checksum": "5852211257279ed8d6b6ba63129d6a17",
     "grade": false,
     "grade_id": "cell-e4178d40a515aca2",
     "locked": true,
     "schema_version": 3,
     "solution": false,
     "task": false
    }
   },
   "source": [
    "### 4. load_dataset\n",
    "<pre>\n",
    "input parameters:\n",
    "- file_name - a path containing the csv file name. Use the 'file_name' as is\n",
    "- category_col_name\n",
    "------------\n",
    "The function should return a dataframe containing the feature vectors (X) and \n",
    "    a series containing the categories (y), for example:</pre>\n",
    "<code>return X, y</code>\n",
    "\n",
    "##### Implement and Run the following code cell:"
   ]
  },
  {
   "cell_type": "code",
   "execution_count": 57,
   "metadata": {
    "ExecuteTime": {
     "end_time": "2021-11-16T17:59:51.687403Z",
     "start_time": "2021-11-16T17:59:51.675413Z"
    },
    "deletable": false,
    "nbgrader": {
     "cell_type": "code",
     "checksum": "6d4b214df72721f644ffd253532b903a",
     "grade": false,
     "grade_id": "solution4-load_dataset",
     "locked": false,
     "schema_version": 3,
     "solution": true,
     "task": false
    }
   },
   "outputs": [],
   "source": [
    "# 4. load_dataset (your solution)\n",
    "# ====>>> YOUR ACTIONS: IMPLEMENT & RUN\n",
    "\n",
    "def load_dataset(file_name, category_col_name):\n",
    "    df=pd.read_csv(file_name)\n",
    "    y=df[category_col_name]\n",
    "    X=df.copy()\n",
    "    X.drop(category_col_name,axis=1,inplace=True)\n",
    "    return X,y\n",
    "    "
   ]
  },
  {
   "cell_type": "markdown",
   "metadata": {
    "deletable": false,
    "editable": false,
    "nbgrader": {
     "cell_type": "markdown",
     "checksum": "952f0631cdc9b71182954fdf1f062ac8",
     "grade": false,
     "grade_id": "cell-3a5b2c06906fe2fd",
     "locked": true,
     "schema_version": 3,
     "solution": false,
     "task": false
    }
   },
   "source": [
    "##### 4.  load_dataset - OPTIONAL SELF TEST - Implement and Run the following code cell (IF NEEDED):"
   ]
  },
  {
   "cell_type": "code",
   "execution_count": 58,
   "metadata": {
    "ExecuteTime": {
     "end_time": "2021-11-16T17:59:51.703402Z",
     "start_time": "2021-11-16T17:59:51.689381Z"
    },
    "deletable": false,
    "nbgrader": {
     "cell_type": "code",
     "checksum": "07d7df0bde81c992c6f5fa0d34377be1",
     "grade": false,
     "grade_id": "cell-1292bb4085725f5e",
     "locked": false,
     "schema_version": 3,
     "solution": true,
     "task": false
    }
   },
   "outputs": [
    {
     "name": "stdout",
     "output_type": "stream",
     "text": [
      "<class 'pandas.core.frame.DataFrame'>\n",
      "RangeIndex: 1000 entries, 0 to 999\n",
      "Data columns (total 7 columns):\n",
      " #   Column         Non-Null Count  Dtype\n",
      "---  ------         --------------  -----\n",
      " 0   social_grp     1000 non-null   int64\n",
      " 1   gender_num     1000 non-null   int64\n",
      " 2   parent_edu     1000 non-null   int64\n",
      " 3   lunch_type     1000 non-null   int64\n",
      " 4   math_score     1000 non-null   int64\n",
      " 5   reading_score  1000 non-null   int64\n",
      " 6   writing_score  1000 non-null   int64\n",
      "dtypes: int64(7)\n",
      "memory usage: 54.8 KB\n"
     ]
    }
   ],
   "source": [
    "# 4. load_dataset (optional self testing)\n",
    "# ====>>> YOUR ACTIONS: (optional) IMPLEMENT & RUN \n",
    "\n",
    "file_name = 'data' + os.sep + 'Students-Performance_shuffled_1000.csv'\n",
    "student_name, student_id = my_name(), my_id()\n",
    "assignment_params = get_assignment_params(student_id)\n",
    "X, y = load_dataset(file_name, assignment_params['y_col'])\n",
    "# --- add additional code to check your code if needed:\n",
    "# YOUR CODE HERE\n",
    "X.info()\n"
   ]
  },
  {
   "cell_type": "code",
   "execution_count": 59,
   "metadata": {
    "ExecuteTime": {
     "end_time": "2021-11-16T17:59:51.719412Z",
     "start_time": "2021-11-16T17:59:51.704414Z"
    },
    "deletable": false,
    "editable": false,
    "nbgrader": {
     "cell_type": "code",
     "checksum": "1c1292466da1db9373865fc00e429586",
     "grade": true,
     "grade_id": "test4-1_load_dataset",
     "locked": true,
     "points": 0.1,
     "schema_version": 3,
     "solution": false,
     "task": false
    }
   },
   "outputs": [
    {
     "name": "stdout",
     "output_type": "stream",
     "text": [
      "4. 'load_dataset' - Test 1 (name: test4-1_load_dataset, points: 0.1) - Sanity\n",
      "Good Job!\n",
      "You've passed the 1st test for the 'load_dataset' function implementation :-)\n"
     ]
    }
   ],
   "source": [
    "# 4. load_dataset (graded test)\n",
    "# ====>>> YOUR ACTIONS: RUN ONLY\n",
    "\n",
    "print (\"4. 'load_dataset' - Test 1 (name: test4-1_load_dataset, points: 0.1) - Sanity\")\n",
    "\n",
    "file_name = 'data' + os.sep + 'Students-Performance_shuffled_1000.csv'\n",
    "\n",
    "try:    \n",
    "    student_name, student_id = my_name(), my_id()\n",
    "    assert type(student_name) is str or type(student_id) is int, \"name is not a string or id is not an integer\"\n",
    "    assignment_params = get_assignment_params(student_id)\n",
    "    X, y = load_dataset(file_name, assignment_params['y_col'])\n",
    "except Exception as e:\n",
    "    print ('You probably have a syntax or implementation error,  \\nerror Message:',str(e), '\\nTry fixing your code')\n",
    "    raise\n",
    "print (\"Good Job!\\nYou've passed the 1st test for the 'load_dataset' function implementation :-)\")"
   ]
  },
  {
   "cell_type": "code",
   "execution_count": 60,
   "metadata": {
    "ExecuteTime": {
     "end_time": "2021-11-16T17:59:51.735379Z",
     "start_time": "2021-11-16T17:59:51.720379Z"
    },
    "deletable": false,
    "editable": false,
    "nbgrader": {
     "cell_type": "code",
     "checksum": "cf5adf6c6028ec5f8920b1f75d898ecc",
     "grade": true,
     "grade_id": "test4-2_load_dataset",
     "locked": true,
     "points": 0.5,
     "schema_version": 3,
     "solution": false,
     "task": false
    }
   },
   "outputs": [
    {
     "name": "stdout",
     "output_type": "stream",
     "text": [
      "4. 'load_dataset' - Test 2 (name: test4-2_load_dataset, points: 0.5)\n",
      "Good Job!\n",
      "You've passed the 2nd test for the 'load_dataset' function implementation :-)\n"
     ]
    }
   ],
   "source": [
    "# 4. load_dataset (graded test)\n",
    "# ====>>> YOUR ACTIONS: RUN ONLY\n",
    "\n",
    "print (\"4. 'load_dataset' - Test 2 (name: test4-2_load_dataset, points: 0.5)\")\n",
    "\n",
    "file_name = 'data' + os.sep + 'Students-Performance_shuffled_1000.csv'\n",
    "\n",
    "\n",
    "try:    \n",
    "    student_name, student_id = my_name(), my_id()\n",
    "    assert type(student_name) is str or type(student_id) is int, \"name is not a string or id is not an integer\"\n",
    "    assignment_params = get_assignment_params(student_id)\n",
    "    X, y = load_dataset(file_name, assignment_params['y_col'])\n",
    "    # ---------------------------\n",
    "    X_train, y_train = X.iloc[:assignment_params['num_train1'],:],  y.iloc[:assignment_params['num_train1']]\n",
    "    X_test, y_test = X.iloc[assignment_params['num_train1']:,:], y.iloc[assignment_params['num_train1']:]\n",
    "    # ---------------------------\n",
    "except Exception as e:\n",
    "    print ('You probably have a syntax or implementation error,  \\nerror Message:',str(e), '\\nTry fixing your code')\n",
    "    raise\n",
    "assert type(X) is pd.DataFrame or type(y) is pd.Series, \"Wrong type for feature vectors dataframe or for category series\"\n",
    "\n",
    "print (\"Good Job!\\nYou've passed the 2nd test for the 'load_dataset' function implementation :-)\")"
   ]
  },
  {
   "cell_type": "code",
   "execution_count": 61,
   "metadata": {
    "ExecuteTime": {
     "end_time": "2021-11-16T17:59:51.766415Z",
     "start_time": "2021-11-16T17:59:51.736415Z"
    },
    "deletable": false,
    "editable": false,
    "nbgrader": {
     "cell_type": "code",
     "checksum": "c34f000234225c70c971f0139e8993d9",
     "grade": true,
     "grade_id": "test4-3_load_dataset",
     "locked": true,
     "points": 0.9,
     "schema_version": 3,
     "solution": false,
     "task": false
    }
   },
   "outputs": [
    {
     "name": "stdout",
     "output_type": "stream",
     "text": [
      "4. 'load_dataset' - Test 3 (name: test4-3_load_dataset, points: 0.9)\n",
      "Good Job!\n",
      "You've passed the 3rd test for the 'load_dataset' function implementation :-)\n"
     ]
    }
   ],
   "source": [
    "# 4. load_dataset (graded test)\n",
    "# ====>>> YOUR ACTIONS: RUN ONLY\n",
    "\n",
    "print (\"4. 'load_dataset' - Test 3 (name: test4-3_load_dataset, points: 0.9)\")\n",
    "\n",
    "file_name = 'data' + os.sep + 'Students-Performance_shuffled_1000.csv'\n",
    "\n",
    "try:    \n",
    "    student_name, student_id = my_name(), my_id()\n",
    "    assert type(student_name) is str or type(student_id) is int, \"name is not a string or id is not an integer\"\n",
    "    assignment_params = get_assignment_params(student_id)\n",
    "    X, y = load_dataset(file_name, assignment_params['y_col'])\n",
    "except Exception as e:\n",
    "    print ('You probably have a syntax or implementation error,  \\nerror Message:',str(e), '\\nTry fixing your code')\n",
    "    raise\n",
    "\n",
    "assert X.shape == (1000,7) and X.shape[0] == y.shape[0], 'Wrong shape for feature vector dataframe or category series'\n",
    "assert assignment_params['y_col'] not in X.columns, \"'%s' should not be part of columns, it is the category column\" %(assignment_params['y_col'])\n",
    "print (\"Good Job!\\nYou've passed the 3rd test for the 'load_dataset' function implementation :-)\")"
   ]
  },
  {
   "cell_type": "markdown",
   "metadata": {
    "deletable": false,
    "editable": false,
    "nbgrader": {
     "cell_type": "markdown",
     "checksum": "b6103b9e6a5466e0b0dcb60ae501f6ab",
     "grade": false,
     "grade_id": "cell-b009443b37643334",
     "locked": true,
     "schema_version": 3,
     "solution": false,
     "task": false
    }
   },
   "source": [
    "[Go to the beginning of the assignment](#home)\n",
    "<a id=\"scaling\"></a>\n",
    "### 5. Scaling\n",
    "##### methods to implement:\n",
    "* scale_fit_transform\n",
    "* scale_transform_for_test"
   ]
  },
  {
   "cell_type": "markdown",
   "metadata": {
    "deletable": false,
    "editable": false,
    "nbgrader": {
     "cell_type": "markdown",
     "checksum": "369808a6519af458a0a38dad6bd9e676",
     "grade": false,
     "grade_id": "cell-aa724ac6b96d2a4e",
     "locked": true,
     "schema_version": 3,
     "solution": false,
     "task": false
    }
   },
   "source": [
    "##### 5. Scaling - PERSONAL IMPLEMENTATION - Run the following code cell:"
   ]
  },
  {
   "cell_type": "code",
   "execution_count": 62,
   "metadata": {
    "ExecuteTime": {
     "end_time": "2021-11-16T17:59:51.782410Z",
     "start_time": "2021-11-16T17:59:51.767380Z"
    },
    "deletable": false,
    "editable": false,
    "nbgrader": {
     "cell_type": "code",
     "checksum": "f01469b5b1172dbd33281d2cdcab23b0",
     "grade": false,
     "grade_id": "personal-implementation-scaling",
     "locked": true,
     "schema_version": 3,
     "solution": false,
     "task": false
    }
   },
   "outputs": [
    {
     "name": "stdout",
     "output_type": "stream",
     "text": [
      "The scaling type you need to implement is: 'minmax[-1,1]'\n"
     ]
    }
   ],
   "source": [
    "# 5. SCALING (personal implementation info)\n",
    "# ====>>> YOUR ACTIONS: RUN ONLY\n",
    "\n",
    "try:    \n",
    "    student_name, student_id = my_name(), my_id()\n",
    "    assert type(student_name) is str or type(student_id) is int, \"name is not a string or id is not an integer\"    \n",
    "    assignment_params = get_assignment_params(student_id)\n",
    "except Exception as e:\n",
    "    print ('You probably did not implement student-info functions, \\nerror Message:',str(e))\n",
    "    raise\n",
    "# ----------------------------\n",
    "\n",
    "print (\"The scaling type you need to implement is: '\" + assignment_params['scale_type'] + \"'\")"
   ]
  },
  {
   "cell_type": "markdown",
   "metadata": {
    "deletable": false,
    "editable": false,
    "nbgrader": {
     "cell_type": "markdown",
     "checksum": "a7adb0d6b9babcd42b99fbf5d39fa1ae",
     "grade": false,
     "grade_id": "cell-bbc62971d9163395",
     "locked": true,
     "schema_version": 3,
     "solution": false,
     "task": false
    }
   },
   "source": [
    "<b>5. Scaling (scale_fit_transform, scale_transform_for_test) - Permitted and illegal methods</b>:<br />\n",
    "<div class=\"alert alert-success\">\n",
    "&#x2714; You can use any function that calculates: minimum (<code>min</code>), maximum (<code>max</code>), average (<code>mean</code>), variance (<code>var</code>) or standard deviation (<code>std</code>)<br/>\n",
    "&#x2714; Any other basic mathematical function (+,*, ...)<br/>\n",
    "</div>\n",
    "<div class=\"alert alert-danger\">\n",
    "&#x2718; DON'T USE any function, which perform the scaling\n",
    "</div>\n",
    "<br>\n",
    "<b><u>Important Notes - for those who need to implement (t-distribution) standardization</u></b><br/>\n",
    "\n",
    "* <u>By default, numpy's</u> `var` & `std` <u> methods refer to the population</u>\n",
    "* <u>By default, pandas'</u> `var` & `std` <u> methods refer to the sample</u>\n",
    "* Use the relevant methods (& parameters if needed)"
   ]
  },
  {
   "cell_type": "markdown",
   "metadata": {
    "deletable": false,
    "editable": false,
    "nbgrader": {
     "cell_type": "markdown",
     "checksum": "a27eeef5f69127a3231831b48c3e930a",
     "grade": false,
     "grade_id": "cell-06977bc5aaf8d17c",
     "locked": true,
     "schema_version": 3,
     "solution": false,
     "task": false
    }
   },
   "source": [
    "### 5.a. scale_fit_transform\n",
    "<pre>\n",
    "input parameters:\n",
    "- X_train - the input dataframe (only feature vectors)\n",
    "------------\n",
    "The function should return a <b>copy</b> of the train feature vector dataframe (X_train_scaled)\n",
    "    a dataframe containing scaling information (scaling_info).\n",
    "---------------------\n",
    "</pre>\n",
    "For example, if your input `X_train` is:\n",
    "\n",
    "| | sepal_length | sepal_width | petal_length | \n",
    "| :- | :- | :- | :- | \n",
    "| <b>0</b> |  5.1 | 3.5 | 1.4 |  \n",
    "| <b>1</b> |  4.9 | 3 | 1.4 |   \n",
    "| <b>2</b> |  4.7 | 3.2 | 1.3 |  \n",
    "| <b>3</b> |  4.6 | 3.1 | 1.5 | \n",
    "| <b>4</b> |  5 | 3.6 | 1.4 | \n",
    "\n",
    "------\n",
    "\n",
    "Cases (a) & (b): If YOU are assigned with a <b>'scale_type'</b> of <b>'minmax[0,1]'</b> or <b>'minmax[-1,1]'</b>- <br />\n",
    "Then, the expected `scaling_info` output will be:\n",
    "\n",
    "| | min | max |\n",
    "| :- | :- | :- |\n",
    "| sepal_length | 4.6 | 5.1 |\n",
    "| sepal_width | 3.0 | 3.6 |\n",
    "| petal_length | 1.3 | 1.5 |\n",
    "\n",
    "Case (a): If YOU are assigned with a <b>'scale_type'</b> of <b>'minmax[0,1]'</b> - <br />\n",
    "Then, the expected `X_train_scaled` output will be:\n",
    "\n",
    "| | sepal_length | sepal_width | petal_length | \n",
    "| :- | :- | :- | :- |\n",
    "| <b>0</b> | 1.0 | 0.833333 | 0.5 |\n",
    "| <b>1</b> | 0.6 | 0.0 | 0.5 |\n",
    "| <b>2</b> | 0.2 | 0.333333 | 0.0 |\n",
    "| <b>3</b> | 0.0 | 0.166667 | 1.0 |\n",
    "| <b>4</b> | 0.8 | 1.0 | 0.5 |\n",
    "\n",
    "Case (b): If YOU are assigned with a <b>'scale_type'</b> of <b>'minmax[-1,1]'</b> - <br />\n",
    "Then, the expected `X_train_scaled` output will be:\n",
    "\n",
    "| | sepal_length | sepal_width | petal_length | \n",
    "| :- | :- | :- | :- |\n",
    "| <b>0</b> | 1.0 | 0.66666 | 0.0 |\n",
    "| <b>1</b> | 0.2 | -1.0 | 0.0 |\n",
    "| <b>2</b> | -0.6 | -0.33333 | -1.0 |\n",
    "| <b>3</b> | -1.0 | -0.66666 | 1.0 |\n",
    "| <b>4</b> | 0.6 | 1.0 | 0.0 |\n",
    "\n",
    "------\n",
    "\n",
    "Case (c): If YOU are assigned with a <b>'scale_type'</b> of <b>'standardization'</b> - <br />\n",
    "Then, the expected `scaling_info` output will be:\n",
    "\n",
    "| | mean | std |\n",
    "| :- | :- | :- |\n",
    "| sepal_length | 4.86 | 0.207364 |\n",
    "| sepal_width | 3.28 | 0.258844 |\n",
    "| petal_length | 1.40 | 0.070711 |\n",
    "\t\t\n",
    "And the `X_train_scaled` output will be:\n",
    "\n",
    "| | sepal_length | sepal_width | petal_length | \n",
    "| :- | :- | :- | :- |\n",
    "| <b>0</b> | 1.157383 | 0.849934 | 0.000000 |\n",
    "| <b>1</b> | 0.192897 |-1.081734 | 0.000000 |\n",
    "| <b>2</b> | -0.771589 | -0.309067 | -1.414214 |\n",
    "| <b>3</b> | -1.253831 | -0.695401 | 1.414214 |\n",
    "| <b>4</b> | 0.675140 | 1.236268 | 0.000000 |\n",
    "\n",
    "----\n",
    "\n",
    "And an example of the output statement:<br/>\n",
    "<code>    return scaling_info, X_train_scaled</code>"
   ]
  },
  {
   "cell_type": "markdown",
   "metadata": {
    "deletable": false,
    "editable": false,
    "nbgrader": {
     "cell_type": "markdown",
     "checksum": "77afb4ac9f23b9ecd72b7f1194a6e29f",
     "grade": false,
     "grade_id": "cell-f6f2dc50c56a8b59",
     "locked": true,
     "schema_version": 3,
     "solution": false,
     "task": false
    }
   },
   "source": [
    "##### 5.a. scale_fit_transform - OPTIONAL  ASSISTANCE  - Implement & Run the following cell (IF NEEDED):"
   ]
  },
  {
   "cell_type": "code",
   "execution_count": 63,
   "metadata": {
    "ExecuteTime": {
     "end_time": "2021-11-16T17:59:51.798402Z",
     "start_time": "2021-11-16T17:59:51.783378Z"
    },
    "deletable": false,
    "nbgrader": {
     "cell_type": "code",
     "checksum": "c5593b3be2d05d9328a90c1d07f3d18f",
     "grade": false,
     "grade_id": "assistance5a-scale_fit_transform",
     "locked": false,
     "schema_version": 3,
     "solution": true,
     "task": false
    }
   },
   "outputs": [],
   "source": [
    "# 5.a. scale_fit_transform (optional assitance for your solution)\n",
    "# ====>>> YOUR ACTIONS: (optional) IMPLEMENT & RUN \n",
    "\n",
    "# ---- Add assistance code here IF NEEDED:\n",
    "# YOUR CODE HERE\n"
   ]
  },
  {
   "cell_type": "markdown",
   "metadata": {
    "deletable": false,
    "editable": false,
    "nbgrader": {
     "cell_type": "markdown",
     "checksum": "fe6780befd66697f3dc994c44f005287",
     "grade": false,
     "grade_id": "cell-f787d3fec133e072",
     "locked": true,
     "schema_version": 3,
     "solution": false,
     "task": false
    }
   },
   "source": [
    "##### 5.a. scale_fit_transform - Implement and Run the following code cell:"
   ]
  },
  {
   "cell_type": "code",
   "execution_count": 64,
   "metadata": {
    "ExecuteTime": {
     "end_time": "2021-11-16T17:59:51.814404Z",
     "start_time": "2021-11-16T17:59:51.799381Z"
    },
    "deletable": false,
    "nbgrader": {
     "cell_type": "code",
     "checksum": "57c54cd04ef84b0416373dee9c1e4358",
     "grade": false,
     "grade_id": "solution5a-scale_fit_transform",
     "locked": false,
     "schema_version": 3,
     "solution": true,
     "task": false
    }
   },
   "outputs": [],
   "source": [
    "# 5.a. scale_fit_transform (your solution)\n",
    "# ====>>> YOUR ACTIONS: IMPLEMENT & RUN\n",
    "def scale_fit_transform(X_train):\n",
    "    X_train_scaled=X_train.copy()\n",
    "    X_train_copy = X_train_scaled.agg(['min','max'])\n",
    "    scaling_info=X_train_copy.T\n",
    "    i=0\n",
    "    for col in X_train:\n",
    "        minValue=scaling_info.iloc[i,0]\n",
    "        colRange=scaling_info.iloc[i,1]-minValue\n",
    "        i+=1\n",
    "        X_train_scaled[col]-=minValue\n",
    "        X_train_scaled[col]=(X_train_scaled[col]/colRange)*2-1\n",
    "    return scaling_info, X_train_scaled\n",
    "    "
   ]
  },
  {
   "cell_type": "markdown",
   "metadata": {
    "deletable": false,
    "editable": false,
    "nbgrader": {
     "cell_type": "markdown",
     "checksum": "c6a412bfc07f5d6fb1db183572993bd0",
     "grade": false,
     "grade_id": "cell-2a413f59c10f8e90",
     "locked": true,
     "schema_version": 3,
     "solution": false,
     "task": false
    }
   },
   "source": [
    "##### 5.a. scale_fit_transform - OPTIONAL SELF TEST - Implement & Run the following code cell (IF NEEDED):"
   ]
  },
  {
   "cell_type": "code",
   "execution_count": 65,
   "metadata": {
    "ExecuteTime": {
     "end_time": "2021-11-16T17:59:51.846410Z",
     "start_time": "2021-11-16T17:59:51.815378Z"
    },
    "deletable": false,
    "nbgrader": {
     "cell_type": "code",
     "checksum": "cd21e35f1a1cc872aaf195b26bf34808",
     "grade": false,
     "grade_id": "cell-b95f59dfb75314fd",
     "locked": false,
     "schema_version": 3,
     "solution": true,
     "task": false
    }
   },
   "outputs": [
    {
     "data": {
      "text/html": [
       "<div>\n",
       "<style scoped>\n",
       "    .dataframe tbody tr th:only-of-type {\n",
       "        vertical-align: middle;\n",
       "    }\n",
       "\n",
       "    .dataframe tbody tr th {\n",
       "        vertical-align: top;\n",
       "    }\n",
       "\n",
       "    .dataframe thead th {\n",
       "        text-align: right;\n",
       "    }\n",
       "</style>\n",
       "<table border=\"1\" class=\"dataframe\">\n",
       "  <thead>\n",
       "    <tr style=\"text-align: right;\">\n",
       "      <th></th>\n",
       "      <th>min</th>\n",
       "      <th>max</th>\n",
       "    </tr>\n",
       "  </thead>\n",
       "  <tbody>\n",
       "    <tr>\n",
       "      <th>social_grp</th>\n",
       "      <td>1</td>\n",
       "      <td>5</td>\n",
       "    </tr>\n",
       "    <tr>\n",
       "      <th>gender_num</th>\n",
       "      <td>0</td>\n",
       "      <td>1</td>\n",
       "    </tr>\n",
       "    <tr>\n",
       "      <th>parent_edu</th>\n",
       "      <td>0</td>\n",
       "      <td>5</td>\n",
       "    </tr>\n",
       "    <tr>\n",
       "      <th>lunch_type</th>\n",
       "      <td>0</td>\n",
       "      <td>1</td>\n",
       "    </tr>\n",
       "    <tr>\n",
       "      <th>math_score</th>\n",
       "      <td>16</td>\n",
       "      <td>100</td>\n",
       "    </tr>\n",
       "    <tr>\n",
       "      <th>reading_score</th>\n",
       "      <td>23</td>\n",
       "      <td>100</td>\n",
       "    </tr>\n",
       "    <tr>\n",
       "      <th>writing_score</th>\n",
       "      <td>24</td>\n",
       "      <td>100</td>\n",
       "    </tr>\n",
       "  </tbody>\n",
       "</table>\n",
       "</div>"
      ],
      "text/plain": [
       "               min  max\n",
       "social_grp       1    5\n",
       "gender_num       0    1\n",
       "parent_edu       0    5\n",
       "lunch_type       0    1\n",
       "math_score      16  100\n",
       "reading_score   23  100\n",
       "writing_score   24  100"
      ]
     },
     "execution_count": 65,
     "metadata": {},
     "output_type": "execute_result"
    }
   ],
   "source": [
    "# 5.a. scale_fit_transform (optional self testing)\n",
    "# ====>>> YOUR ACTIONS: (optional) IMPLEMENT & RUN \n",
    "\n",
    "file_name = 'data' + os.sep + 'Students-Performance_shuffled_1000.csv'\n",
    "y_col     = 'has_preparations'\n",
    "student_name, student_id = my_name(), my_id()\n",
    "assignment_params = get_assignment_params(student_id)    \n",
    "X, y = load_dataset(file_name, y_col)\n",
    "X_train, y_train = X.iloc[:assignment_params['num_train1'],:],  y.iloc[:assignment_params['num_train1']]\n",
    "X_test, y_test = X.iloc[assignment_params['num_train1']:,:], y.iloc[assignment_params['num_train1']:]\n",
    "trained_scaling_info,  X_train_scaled = scale_fit_transform(X_train)\n",
    "# --- add additional code to check your code if needed:\n",
    "trained_scaling_info\n"
   ]
  },
  {
   "cell_type": "markdown",
   "metadata": {
    "deletable": false,
    "editable": false,
    "nbgrader": {
     "cell_type": "markdown",
     "checksum": "1bc51fb1651ce22d06f9534c4c239462",
     "grade": false,
     "grade_id": "cell-a9db82c60284cdeb",
     "locked": true,
     "schema_version": 3,
     "solution": false,
     "task": false
    }
   },
   "source": [
    "##### 5.a. scale_fit_transform - GRADED TESTS -  Run the following (3) code cells:"
   ]
  },
  {
   "cell_type": "code",
   "execution_count": 66,
   "metadata": {
    "ExecuteTime": {
     "end_time": "2021-11-16T17:59:51.877380Z",
     "start_time": "2021-11-16T17:59:51.848379Z"
    },
    "deletable": false,
    "editable": false,
    "nbgrader": {
     "cell_type": "code",
     "checksum": "0c3f7ee3eaf46a21755b4ce7ba61cd68",
     "grade": true,
     "grade_id": "test5a-1_scale_fit_transform",
     "locked": true,
     "points": 0.1,
     "schema_version": 3,
     "solution": false,
     "task": false
    }
   },
   "outputs": [
    {
     "name": "stdout",
     "output_type": "stream",
     "text": [
      "5.a. 'scale_fit_transform' - Test 1 (name: test5a-1_scale_fit_transform, points: 0.1) - Sanity\n",
      "\t\tTesing a 'minmax[-1,1]' scale type ...\n",
      "\n",
      "\n",
      "Good Job!\n",
      "You've passed the 1st test for the 'scale_fit_transform' function implementation :-)\n"
     ]
    }
   ],
   "source": [
    "# 5.a. scale_fit_transform (graded test)\n",
    "# ====>>> YOUR ACTIONS: RUN ONLY\n",
    "\n",
    "print (\"5.a. 'scale_fit_transform' - Test 1 (name: test5a-1_scale_fit_transform, points: 0.1) - Sanity\")\n",
    "\n",
    "file_name = 'data' + os.sep + 'Students-Performance_shuffled_1000.csv'\n",
    "y_col     = 'has_preparations'\n",
    "try:    \n",
    "    student_name, student_id = my_name(), my_id()\n",
    "    assert type(student_name) is str or type(student_id) is int, \"name is not a string or id is not an integer\"\n",
    "    assignment_params = get_assignment_params(student_id)    \n",
    "    print (\"\\t\\tTesing a '\" + assignment_params['scale_type'] + \"' scale type ...\\n\")\n",
    "    X, y = load_dataset(file_name, y_col)\n",
    "    X_train, y_train = X.iloc[:assignment_params['num_train1'],:],  y.iloc[:assignment_params['num_train1']]\n",
    "    X_test, y_test = X.iloc[assignment_params['num_train1']:,:], y.iloc[assignment_params['num_train1']:]\n",
    "    trained_scaling_info,  X_train_scaled = scale_fit_transform(X_train)\n",
    "except Exception as e:\n",
    "    print ('You probably have a syntax or implementation error,  \\nerror Message:',str(e), '\\nTry fixing your code')\n",
    "    raise\n",
    "\n",
    "\n",
    "print (\"\\nGood Job!\\nYou've passed the 1st test for the 'scale_fit_transform' function implementation :-)\")"
   ]
  },
  {
   "cell_type": "code",
   "execution_count": 67,
   "metadata": {
    "ExecuteTime": {
     "end_time": "2021-11-16T17:59:51.925416Z",
     "start_time": "2021-11-16T17:59:51.879382Z"
    },
    "deletable": false,
    "editable": false,
    "nbgrader": {
     "cell_type": "code",
     "checksum": "1d9fa013b13436a3f854ba53431c6faa",
     "grade": true,
     "grade_id": "test5a-2_scale_fit_transform",
     "locked": true,
     "points": 0.5,
     "schema_version": 3,
     "solution": false,
     "task": false
    }
   },
   "outputs": [
    {
     "name": "stdout",
     "output_type": "stream",
     "text": [
      "5.a. 'scale_fit_transform' - Test 2 (name: test5a-2_scale_fit_transform, points: 0.5)\n",
      "\t\tTesing a 'minmax[-1,1]' scale type ...\n",
      "\n",
      "\n",
      "Good Job!\n",
      "You've passed the 2nd test for the 'scale_fit_transform' function implementation :-)\n"
     ]
    }
   ],
   "source": [
    "# 5.a. scale_fit_transform (graded test)\n",
    "# ====>>> YOUR ACTIONS: RUN ONLY\n",
    "\n",
    "print (\"5.a. 'scale_fit_transform' - Test 2 (name: test5a-2_scale_fit_transform, points: 0.5)\")\n",
    "\n",
    "file_name = 'data' + os.sep + 'Students-Performance_shuffled_1000.csv'\n",
    "y_col     = 'has_preparations'\n",
    "try:      \n",
    "    student_name, student_id = my_name(), my_id()\n",
    "    assert type(student_name) is str or type(student_id) is int, \"name is not a string or id is not an integer\"\n",
    "    assignment_params = get_assignment_params(student_id)    \n",
    "    print (\"\\t\\tTesing a '\" + assignment_params['scale_type'] + \"' scale type ...\\n\")\n",
    "    X, y = load_dataset(file_name, y_col)\n",
    "    X_train, y_train = X.iloc[:assignment_params['num_train1'],:],  y.iloc[:assignment_params['num_train1']]\n",
    "    X_test, y_test = X.iloc[assignment_params['num_train1']:,:], y.iloc[assignment_params['num_train1']:]\n",
    "    trained_scaling_info,  X_train_scaled = scale_fit_transform(X_train)\n",
    "except Exception as e:\n",
    "    print ('You probably have a syntax or implementation error,  \\nerror Message:',str(e), '\\nTry fixing your code')\n",
    "    raise\n",
    "\n",
    "check_equal = lambda itr_a,itr_b: len(list(itr_a))>0 and len(list(itr_a))==len(list(itr_b)) and 0==len(set(list(itr_a))-set(list(itr_b))) and 0==len(set(list(itr_b))-set(list(itr_a))) and len(list(itr_a))==len(set(list(itr_b))|set(list(itr_b)))\n",
    "attrs=assignment_params['o_cols']+assignment_params['score_cols']+['gender_num', 'lunch_type']\n",
    "\n",
    "assert X_train_scaled.shape == X_train.shape, 'Wrong shape for scaled train dataframe'\n",
    "np.testing.assert_array_equal(X_train_scaled.index, X_train.index, 'scaled train and train dataframes should have the same index')\n",
    "assert check_equal(X_train_scaled.columns, attrs), 'scaled trained and train dataframes should have the same column names'\n",
    "\n",
    "print (\"\\nGood Job!\\nYou've passed the 2nd test for the 'scale_fit_transform' function implementation :-)\")"
   ]
  },
  {
   "cell_type": "code",
   "execution_count": 68,
   "metadata": {
    "ExecuteTime": {
     "end_time": "2021-11-16T17:59:51.973413Z",
     "start_time": "2021-11-16T17:59:51.927382Z"
    },
    "deletable": false,
    "editable": false,
    "nbgrader": {
     "cell_type": "code",
     "checksum": "777309dcbce78957f09dae16ce8a9b35",
     "grade": true,
     "grade_id": "test5a-3_scale_fit_transform",
     "locked": true,
     "points": 0.8,
     "schema_version": 3,
     "solution": false,
     "task": false
    }
   },
   "outputs": [
    {
     "name": "stdout",
     "output_type": "stream",
     "text": [
      "Parts 5.a. 'scale_fit_transform' - Test 3 (name: test5a-3_scale_fit_transform, points: 0.8)\n",
      "\t\tTesing a 'minmax[-1,1]' scale type ...\n",
      "\n",
      "\n",
      "Good Job!\n",
      "You've passed the 3rd test for the 'scale_fit_transform' functions implementation :-)\n"
     ]
    }
   ],
   "source": [
    "# 5.a. scale_fit_transform (graded test)\n",
    "# ====>>> YOUR ACTIONS: RUN ONLY\n",
    "\n",
    "print (\"Parts 5.a. 'scale_fit_transform' - Test 3 (name: test5a-3_scale_fit_transform, points: 0.8)\")\n",
    "\n",
    "\n",
    "file_name = 'data' + os.sep + 'Students-Performance_shuffled_1000.csv'\n",
    "y_col     = 'has_preparations'\n",
    "try:      \n",
    "    student_name, student_id = my_name(), my_id()\n",
    "    assert type(student_name) is str or type(student_id) is int, \"name is not a string or id is not an integer\"\n",
    "    assignment_params = get_assignment_params(student_id)    \n",
    "    print (\"\\t\\tTesing a '\" + assignment_params['scale_type'] + \"' scale type ...\\n\")\n",
    "    X, y = load_dataset(file_name, y_col)\n",
    "    X_train, y_train = X.iloc[:assignment_params['num_train1'],:],  y.iloc[:assignment_params['num_train1']]\n",
    "    X_test, y_test = X.iloc[assignment_params['num_train1']:,:], y.iloc[assignment_params['num_train1']:]\n",
    "    trained_scaling_info,  X_train_scaled = scale_fit_transform(X_train)\n",
    "except Exception as e:\n",
    "    print ('You probably have a syntax or implementation error,  \\nerror Message:',str(e), '\\nTry fixing your code')\n",
    "    raise\n",
    "mean_values = X_train_scaled.mean().values\n",
    "mean_round  = np.round(mean_values+0.00001,4)\n",
    "min_values = X_train_scaled.min().values\n",
    "min_round  = np.round(min_values+0.00001,4)\n",
    "max_values = X_train_scaled.max().values\n",
    "max_round  = np.round(max_values+0.00001,4)\n",
    "if 'standardization' == assignment_params['scale_type']:\n",
    "    np.testing.assert_array_equal([0.,0.,0.,0.,0.,0.,0.], mean_round, 'Wrong average standardization scaled values')\n",
    "elif assignment_params['scale_type'] == 'minmax[0,1]':\n",
    "    np.testing.assert_array_equal([0.,0.,0.,0.,0.,0.,0.], min_round, 'Wrong min minmax[0,1] scaled values')\n",
    "    np.testing.assert_array_equal([1.0, 1.0, 1.0, 1.0, 1.0, 1.0, 1.0], max_round, 'Wrong max minmax[0,1] scaled values')\n",
    "else:    \n",
    "    np.testing.assert_array_equal([-1.0, -1.0, -1.0, -1.0, -1.0, -1.0, -1.0], min_round, 'Wrong min minmax[-1,1] scaled values') \n",
    "    np.testing.assert_array_equal([1.0, 1.0, 1.0, 1.0, 1.0, 1.0, 1.0], max_round, 'Wrong max minmax[-1,1] scaled values')\n",
    "print (\"\\nGood Job!\\nYou've passed the 3rd test for the 'scale_fit_transform' functions implementation :-)\")"
   ]
  },
  {
   "cell_type": "markdown",
   "metadata": {
    "deletable": false,
    "editable": false,
    "nbgrader": {
     "cell_type": "markdown",
     "checksum": "30d37fdd8b9a0040f01068aa97efaf05",
     "grade": false,
     "grade_id": "cell-e17405a8adc62f70",
     "locked": true,
     "schema_version": 3,
     "solution": false,
     "task": false
    }
   },
   "source": [
    "### 5.b. scale_transform_for_test\n",
    "<pre>\n",
    "input parameters:\n",
    "- X_test - the input dataframe (only feature vectors)\n",
    "- trained_scaling_info - scaling information (returned from the above scale_fit_transform method) \n",
    "------------\n",
    "The function should return a scaled <b>copy</b> of the test dataframe (X_test_scaled), for example:</pre>\n",
    "<code>    return X_test_scaled</code>"
   ]
  },
  {
   "cell_type": "markdown",
   "metadata": {
    "deletable": false,
    "editable": false,
    "nbgrader": {
     "cell_type": "markdown",
     "checksum": "1d2601ad95c149ed19f4b18115de1e7f",
     "grade": false,
     "grade_id": "cell-32dae541f102d9d6",
     "locked": true,
     "schema_version": 3,
     "solution": false,
     "task": false
    }
   },
   "source": [
    "##### 5.b. scale_transform_for_test - OPTIONAL  ASSISTANCE  - Implement & Run the following (IF NEEDED):"
   ]
  },
  {
   "cell_type": "code",
   "execution_count": 69,
   "metadata": {
    "ExecuteTime": {
     "end_time": "2021-11-16T17:59:51.989413Z",
     "start_time": "2021-11-16T17:59:51.975379Z"
    },
    "deletable": false,
    "nbgrader": {
     "cell_type": "code",
     "checksum": "9707cd2cf31aa1276f42f5c53362c11b",
     "grade": false,
     "grade_id": "assistance5b-scale_transform_for_test",
     "locked": false,
     "schema_version": 3,
     "solution": true,
     "task": false
    }
   },
   "outputs": [],
   "source": [
    "# 5.b. scale_transform_for_test (optional assitance for your solution)\n",
    "# ====>>> YOUR ACTIONS: (optional) IMPLEMENT & RUN \n",
    "\n",
    "# ---- Add assistance code here IF NEEDED:\n",
    "# YOUR CODE HERE\n"
   ]
  },
  {
   "cell_type": "markdown",
   "metadata": {
    "deletable": false,
    "editable": false,
    "nbgrader": {
     "cell_type": "markdown",
     "checksum": "29de1a4da6925b62d7fb6f7b7456d28e",
     "grade": false,
     "grade_id": "cell-5466d7391b60b8fa",
     "locked": true,
     "schema_version": 3,
     "solution": false,
     "task": false
    }
   },
   "source": [
    "##### 5.b. scale_transform_for_test - Implement and Run the following code cell:"
   ]
  },
  {
   "cell_type": "code",
   "execution_count": 70,
   "metadata": {
    "ExecuteTime": {
     "end_time": "2021-11-16T17:59:52.005383Z",
     "start_time": "2021-11-16T17:59:51.991383Z"
    },
    "deletable": false,
    "nbgrader": {
     "cell_type": "code",
     "checksum": "dd64ab18917f212a4336eb9619253ad6",
     "grade": false,
     "grade_id": "solution5b-scale_transform_for_test",
     "locked": false,
     "schema_version": 3,
     "solution": true,
     "task": false
    }
   },
   "outputs": [],
   "source": [
    "# 5.b. scale_transform_for_test (your solution)\n",
    "# ====>>> YOUR ACTIONS: IMPLEMENT & RUN\n",
    "\n",
    "def scale_transform_for_test(trained_scaling_info,  X_test):\n",
    "    X_test_scaled=X_test.copy()\n",
    "    i=0\n",
    "    for col in X_test_scaled:\n",
    "        minValue=trained_scaling_info.iloc[i,0]\n",
    "        colRange=trained_scaling_info.iloc[i,1]-minValue\n",
    "        i+=1\n",
    "        X_test_scaled[col]-=minValue\n",
    "        X_test_scaled[col]=(X_test_scaled[col]/colRange)*2-1\n",
    "    return X_test_scaled\n",
    "    "
   ]
  },
  {
   "cell_type": "markdown",
   "metadata": {
    "deletable": false,
    "editable": false,
    "nbgrader": {
     "cell_type": "markdown",
     "checksum": "e46572d0dc814a3e0e3cd353527ccccc",
     "grade": false,
     "grade_id": "cell-467ccfe4166542a0",
     "locked": true,
     "schema_version": 3,
     "solution": false,
     "task": false
    }
   },
   "source": [
    "##### 5.b. scale_transform_for_test - OPTIONAL SELF TEST - Implement & Run the following cell (IF NEEDED):"
   ]
  },
  {
   "cell_type": "code",
   "execution_count": 71,
   "metadata": {
    "ExecuteTime": {
     "end_time": "2021-11-16T17:59:52.037379Z",
     "start_time": "2021-11-16T17:59:52.006379Z"
    },
    "deletable": false,
    "nbgrader": {
     "cell_type": "code",
     "checksum": "51b21807128fa6173f6862dd714346fe",
     "grade": false,
     "grade_id": "cell-14bfe00fb1108c30",
     "locked": false,
     "schema_version": 3,
     "solution": true,
     "task": false
    }
   },
   "outputs": [],
   "source": [
    "# 5.b. scale_transform_for_test (optional self testing)\n",
    "# ====>>> YOUR ACTIONS: (optional) IMPLEMENT & RUN \n",
    "\n",
    "file_name = 'data' + os.sep + 'Students-Performance_shuffled_1000.csv'\n",
    "y_col     = 'has_preparations'\n",
    "student_name, student_id = my_name(), my_id()\n",
    "assignment_params = get_assignment_params(student_id)    \n",
    "X, y = load_dataset(file_name, y_col)\n",
    "X_train, y_train = X.iloc[:assignment_params['num_train1'],:],  y.iloc[:assignment_params['num_train1']]\n",
    "X_test, y_test = X.iloc[assignment_params['num_train1']:,:], y.iloc[assignment_params['num_train1']:]\n",
    "trained_scaling_info,  X_train_scaled = scale_fit_transform(X_train)\n",
    "X_test_scaled = scale_transform_for_test(trained_scaling_info,  X_test)\n",
    "# --- add additional code to check your code if needed:\n",
    "\n"
   ]
  },
  {
   "cell_type": "markdown",
   "metadata": {
    "deletable": false,
    "editable": false,
    "nbgrader": {
     "cell_type": "markdown",
     "checksum": "f31d2bb9c0abc542f64e659f5157c583",
     "grade": false,
     "grade_id": "cell-1578ccf752093ac4",
     "locked": true,
     "schema_version": 3,
     "solution": false,
     "task": false
    }
   },
   "source": [
    "##### 5.b. scale_fit_transform, scale_transform_for_test - GRADED TESTS -  Run the following (3) code cells:"
   ]
  },
  {
   "cell_type": "code",
   "execution_count": 72,
   "metadata": {
    "ExecuteTime": {
     "end_time": "2021-11-16T17:59:52.085378Z",
     "start_time": "2021-11-16T17:59:52.041384Z"
    },
    "deletable": false,
    "editable": false,
    "nbgrader": {
     "cell_type": "code",
     "checksum": "7277ce51f05a3e1d1bfbc1eac9ba68f9",
     "grade": true,
     "grade_id": "test5b-1_scale_transform_for_test",
     "locked": true,
     "points": 0.1,
     "schema_version": 3,
     "solution": false,
     "task": false
    }
   },
   "outputs": [
    {
     "name": "stdout",
     "output_type": "stream",
     "text": [
      "Parts 5.b. 'scale_transform_for_test' - Test 1 (name: test5b-1_scale_transform_for_test, points: 0.1) - Sanity\n",
      "\t\tTesing a 'minmax[-1,1]' scale type ...\n",
      "\n",
      "\n",
      "Good Job!\n",
      "You've passed the 1st test for the 'scale_transform_for_test' function implementation :-)\n"
     ]
    }
   ],
   "source": [
    "# 5.b. scale_transform_for_test (graded test)\n",
    "# ====>>> YOUR ACTIONS: RUN ONLY\n",
    "\n",
    "print (\"Parts 5.b. 'scale_transform_for_test' - Test 1 (name: test5b-1_scale_transform_for_test, points: 0.1) - Sanity\")\n",
    "\n",
    "file_name = 'data' + os.sep + 'Students-Performance_shuffled_1000.csv'\n",
    "y_col     = 'has_preparations'\n",
    "try:      \n",
    "    student_name, student_id = my_name(), my_id()\n",
    "    assert type(student_name) is str or type(student_id) is int, \"name is not a string or id is not an integer\"\n",
    "    assignment_params = get_assignment_params(student_id)    \n",
    "    print (\"\\t\\tTesing a '\" + assignment_params['scale_type'] + \"' scale type ...\\n\")\n",
    "    X, y = load_dataset(file_name, y_col)\n",
    "    X_train, y_train = X.iloc[:assignment_params['num_train1'],:],  y.iloc[:assignment_params['num_train1']]\n",
    "    X_test, y_test = X.iloc[assignment_params['num_train1']:,:], y.iloc[assignment_params['num_train1']:]\n",
    "    trained_scaling_info,  X_train_scaled = scale_fit_transform(X_train)\n",
    "    X_test_scaled = scale_transform_for_test(trained_scaling_info,  X_test)\n",
    "except Exception as e:\n",
    "    print ('You probably have a syntax or implementation error,  \\nerror Message:',str(e), '\\nTry fixing your code')\n",
    "    raise\n",
    "print (\"\\nGood Job!\\nYou've passed the 1st test for the 'scale_transform_for_test' function implementation :-)\")"
   ]
  },
  {
   "cell_type": "code",
   "execution_count": 73,
   "metadata": {
    "ExecuteTime": {
     "end_time": "2021-11-16T17:59:52.133412Z",
     "start_time": "2021-11-16T17:59:52.087379Z"
    },
    "deletable": false,
    "editable": false,
    "nbgrader": {
     "cell_type": "code",
     "checksum": "1dae357ad13b902547b91c061f23ae34",
     "grade": true,
     "grade_id": "test5b-2_scale_transform_for_test",
     "locked": true,
     "points": 0.5,
     "schema_version": 3,
     "solution": false,
     "task": false
    }
   },
   "outputs": [
    {
     "name": "stdout",
     "output_type": "stream",
     "text": [
      "Parts 5.b. 'scale_transform_for_test' - Test 2 (name: test5b-2_scale_transform_for_test, points: 0.5)\n",
      "\t\tTesing a 'minmax[-1,1]' scale type ...\n",
      "\n",
      "\n",
      "Good Job!\n",
      "You've passed the 2nd test for the 'scale_transform_for_test' function implementation :-)\n"
     ]
    }
   ],
   "source": [
    "# 5.b. scale_transform_for_test (graded test)\n",
    "# ====>>> YOUR ACTIONS: RUN ONLY\n",
    "\n",
    "print (\"Parts 5.b. 'scale_transform_for_test' - Test 2 (name: test5b-2_scale_transform_for_test, points: 0.5)\")\n",
    "\n",
    "file_name = 'data' + os.sep + 'Students-Performance_shuffled_1000.csv'\n",
    "y_col     = 'has_preparations'\n",
    "try:      \n",
    "    student_name, student_id = my_name(), my_id()\n",
    "    assert type(student_name) is str or type(student_id) is int, \"name is not a string or id is not an integer\"\n",
    "    assignment_params = get_assignment_params(student_id)    \n",
    "    print (\"\\t\\tTesing a '\" + assignment_params['scale_type'] + \"' scale type ...\\n\")\n",
    "    X, y = load_dataset(file_name, y_col)\n",
    "    X_train, y_train = X.iloc[:assignment_params['num_train1'],:],  y.iloc[:assignment_params['num_train1']]\n",
    "    X_test, y_test = X.iloc[assignment_params['num_train1']:,:], y.iloc[assignment_params['num_train1']:]\n",
    "    trained_scaling_info,  X_train_scaled = scale_fit_transform(X_train)\n",
    "    X_test_scaled = scale_transform_for_test(trained_scaling_info,  X_test)\n",
    "except Exception as e:\n",
    "    print ('You probably have a syntax or implementation error,  \\nerror Message:',str(e), '\\nTry fixing your code')\n",
    "    raise\n",
    "check_equal = lambda itr_a,itr_b: len(list(itr_a))>0 and len(list(itr_a))==len(list(itr_b)) and 0==len(set(list(itr_a))-set(list(itr_b))) and 0==len(set(list(itr_b))-set(list(itr_a))) and len(list(itr_a))==len(set(list(itr_b))|set(list(itr_b)))\n",
    "assert X_test_scaled.shape == X_test.shape, 'Wrong shape for scaled test dataframe'\n",
    "np.testing.assert_array_equal(X_test_scaled.index, X_test.index, 'scaled test and test dataframes should have the same index')\n",
    "np.testing.assert_array_equal(X_train_scaled.columns, X_test_scaled.columns, 'scaled train and scaled test dataframes should have the same column names')\n",
    "\n",
    "print (\"\\nGood Job!\\nYou've passed the 2nd test for the 'scale_transform_for_test' function implementation :-)\")"
   ]
  },
  {
   "cell_type": "code",
   "execution_count": 74,
   "metadata": {
    "ExecuteTime": {
     "end_time": "2021-11-16T17:59:52.195413Z",
     "start_time": "2021-11-16T17:59:52.135414Z"
    },
    "deletable": false,
    "editable": false,
    "nbgrader": {
     "cell_type": "code",
     "checksum": "aeca14f1a05686250868d5adcec0c654",
     "grade": true,
     "grade_id": "test5-scaling-train-test",
     "locked": true,
     "points": 1,
     "schema_version": 3,
     "solution": false,
     "task": false
    }
   },
   "outputs": [
    {
     "name": "stdout",
     "output_type": "stream",
     "text": [
      "Part 5. 'scale_transform_for_test' (& 'scale_fit_transform') - Test (name: test5-scaling-train-test, points: 1.0)\n",
      "\t\tTesing a 'minmax[-1,1]' scale type ...\n",
      "\n",
      "\n",
      "Good Job!\n",
      "You've passed the test for both the 'scale_fit_transform' and 'scale_transform_for_test' functions implementation :-)\n"
     ]
    }
   ],
   "source": [
    "# 5. scale_fit_transform, scale_transform_for_test (graded test)\n",
    "# ====>>> YOUR ACTIONS: RUN ONLY\n",
    "\n",
    "print (\"Part 5. 'scale_transform_for_test' (& 'scale_fit_transform') - Test (name: test5-scaling-train-test, points: 1.0)\")\n",
    "\n",
    "file_name = 'data' + os.sep + 'Students-Performance_shuffled_1000.csv'\n",
    "y_col     = 'has_preparations'\n",
    "try:      \n",
    "    student_name, student_id = my_name(), my_id()\n",
    "    assert type(student_name) is str or type(student_id) is int, \"name is not a string or id is not an integer\"\n",
    "    assignment_params = get_assignment_params(student_id)    \n",
    "    print (\"\\t\\tTesing a '\" + assignment_params['scale_type'] + \"' scale type ...\\n\")\n",
    "    X, y = load_dataset(file_name, y_col)\n",
    "    X_train, y_train = X.iloc[:assignment_params['num_train1'],:],  y.iloc[:assignment_params['num_train1']]\n",
    "    X_test, y_test = X.iloc[assignment_params['num_train1']:,:], y.iloc[assignment_params['num_train1']:]\n",
    "    trained_scaling_info,  X_train_scaled = scale_fit_transform(X_train)\n",
    "    X_test_scaled = scale_transform_for_test(trained_scaling_info,  X_test)\n",
    "except Exception as e:\n",
    "    print ('You probably have a syntax or implementation error,  \\nerror Message:',str(e), '\\nTry fixing your code')\n",
    "    raise\n",
    "check_equal = lambda itr_a,itr_b: len(list(itr_a))>0 and len(list(itr_a))==len(list(itr_b)) and 0==len(set(list(itr_a))-set(list(itr_b))) and 0==len(set(list(itr_b))-set(list(itr_a))) and len(list(itr_a))==len(set(list(itr_b))|set(list(itr_b)))\n",
    "mean_mean_scl_test = X_test_scaled.mean().values.mean()\n",
    "mean_mean_scl_test_rnd =np.round(mean_mean_scl_test,4)\n",
    "abs_mean_mean_scl_test = abs(mean_mean_scl_test_rnd)\n",
    "max_mean_scl_test =X_test_scaled.mean().values.max()\n",
    "max_mean_scl_test_rnd =np.round(max_mean_scl_test,4)\n",
    "trained_scaling_info_means = trained_scaling_info.mean().values \n",
    "\n",
    "if 'standardization' == assignment_params['scale_type']:\n",
    "    assert 0<mean_mean_scl_test_rnd and mean_mean_scl_test_rnd<0.1, 'Wrong average mean standardized scaled values'\n",
    "    assert 0.04<max_mean_scl_test_rnd and mean_mean_scl_test_rnd<0.14, 'Wrong max mean standardized scaled values'\n",
    "elif assignment_params['scale_type'] == 'minmax[0,1]':\n",
    "    assert 0.5<mean_mean_scl_test_rnd and mean_mean_scl_test_rnd<0.6, 'Wrong average mean minmax[0,1] scaled values'\n",
    "    assert 0.6<max_mean_scl_test_rnd and mean_mean_scl_test_rnd<0.7, 'Wrong max mean minmax[0,1] scaled values'\n",
    "else: # assignment_params['scale_type'] == 'minmax[-1,1]':\n",
    "    assert 0.07<mean_mean_scl_test_rnd and mean_mean_scl_test_rnd<0.17, 'Wrong average mean minmax[-1,1] scaled values'\n",
    "    assert 0.23<max_mean_scl_test_rnd and mean_mean_scl_test_rnd<0.33, 'Wrong max mean minmax[-1,1] scaled values'\n",
    "print (\"\\nGood Job!\\nYou've passed the test for both the 'scale_fit_transform' and 'scale_transform_for_test' functions implementation :-)\")"
   ]
  },
  {
   "cell_type": "markdown",
   "metadata": {
    "deletable": false,
    "editable": false,
    "nbgrader": {
     "cell_type": "markdown",
     "checksum": "3c0817dfb2077efd2024623655dfd58b",
     "grade": false,
     "grade_id": "cell-4b91fb1b3a612211",
     "locked": true,
     "schema_version": 3,
     "solution": false,
     "task": false
    }
   },
   "source": [
    "[Go to the beginning of the assignment](#home)\n",
    "<a id=\"dist\"></a>\n",
    "### 6. Calculate (vector) distance "
   ]
  },
  {
   "cell_type": "markdown",
   "metadata": {
    "deletable": false,
    "editable": false,
    "nbgrader": {
     "cell_type": "markdown",
     "checksum": "a24ef1d3b1e292267bc1f2fb733cc30e",
     "grade": false,
     "grade_id": "cell-1420fb525ef9a57c",
     "locked": true,
     "schema_version": 3,
     "solution": false,
     "task": false
    }
   },
   "source": [
    "##### 6. calc_distance - PERSONAL IMPLEMENTATION - Run the following code cell:"
   ]
  },
  {
   "cell_type": "code",
   "execution_count": 75,
   "metadata": {
    "ExecuteTime": {
     "end_time": "2021-11-16T17:59:52.211380Z",
     "start_time": "2021-11-16T17:59:52.197379Z"
    },
    "deletable": false,
    "editable": false,
    "nbgrader": {
     "cell_type": "code",
     "checksum": "0d8c8829eded90cd8cd3cc26eccf5d9f",
     "grade": false,
     "grade_id": "personal-implementation-dist",
     "locked": true,
     "schema_version": 3,
     "solution": false,
     "task": false
    }
   },
   "outputs": [
    {
     "name": "stdout",
     "output_type": "stream",
     "text": [
      "The distance method you need to implement is: 'euclidean'\n"
     ]
    }
   ],
   "source": [
    "# 6. calc_distance (personal implementation info)\n",
    "# ====>>> YOUR ACTIONS: RUN ONLY\n",
    "\n",
    "try:    \n",
    "    student_name, student_id = my_name(), my_id()\n",
    "    assert type(student_name) is str or type(student_id) is int, \"name is not a string or id is not an integer\"\n",
    "    assignment_params = get_assignment_params(student_id)\n",
    "except Exception as e:\n",
    "    print ('You probably did not implement student-info functions, \\nerror Message:',str(e))\n",
    "    raise\n",
    "\n",
    "print (\"The distance method you need to implement is: '\" + assignment_params['dist_method'] + \"'\")"
   ]
  },
  {
   "cell_type": "markdown",
   "metadata": {
    "deletable": false,
    "editable": false,
    "nbgrader": {
     "cell_type": "markdown",
     "checksum": "97bfc168e0bd7a276b7ea315ada6de00",
     "grade": false,
     "grade_id": "cell-fabe0a0325ac9b23",
     "locked": true,
     "schema_version": 3,
     "solution": false,
     "task": false
    }
   },
   "source": [
    "<b>6. calc_distance (Calculate test-train vector distance) - Permitted and illegal methods</b>:<br />\n",
    "<div class=\"alert alert-success\">\n",
    "&#x2714; You can use any function that calculates: absolute value (<code>abs</code>), power (such as <code>pow</code>), square root (such as <code>sqrt</code>) or sum (<code>sum</code>)<br/>\n",
    "&#x2714; You can use any function that calculates basic vector or scalar mathematical function<br/>\n",
    "</div>\n",
    "<div class=\"alert alert-danger\">\n",
    "&#x2718; DON'T USE any function which performs any of the distance functions<br/>\n",
    "&#x2718; DON'T USE any function which performs a closer step towards the distance functions\n",
    "</div>"
   ]
  },
  {
   "cell_type": "markdown",
   "metadata": {
    "deletable": false,
    "editable": false,
    "nbgrader": {
     "cell_type": "markdown",
     "checksum": "ce83b7287df13919c1041a2802228925",
     "grade": false,
     "grade_id": "cell-2caa99a1b5a9873a",
     "locked": true,
     "schema_version": 3,
     "solution": false,
     "task": false
    }
   },
   "source": [
    "### 6. calc_distance\n",
    "<pre>\n",
    "input parameters:\n",
    "- X_test  - test set feature vector dataframe\n",
    "- X_train - train set feature vector dataframe\n",
    "------------\n",
    "The function should return a dataframe, containing the vector distances, between each of the test vectors and each of the train vectors.\n",
    "  * Assuming df_dist is the output dataframe, df_dist.columns (column index) should \n",
    "      be equal to the X_train.index and df_dist.index should be equal to the X_test.index.\n",
    "  * Each cell should contain the distance between the test vector, represented by the index, \n",
    "           and train vector, represented by the column name.\n",
    "  * Use the distance method which is ASSIGNED TO YOU\n",
    "-----\n",
    "An example of a return statement:</pre>\n",
    "<code>    return df_dist</code>"
   ]
  },
  {
   "cell_type": "markdown",
   "metadata": {
    "deletable": false,
    "editable": false,
    "nbgrader": {
     "cell_type": "markdown",
     "checksum": "0d8a3d6ed23c89a798044e037f8f4540",
     "grade": false,
     "grade_id": "cell-12eb0af1d2f4b045",
     "locked": true,
     "schema_version": 3,
     "solution": false,
     "task": false
    }
   },
   "source": [
    "##### 6. calc_distance - OPTIONAL  ASSISTANCE  - Implement & Run the following code cell (IF NEEDED):"
   ]
  },
  {
   "cell_type": "code",
   "execution_count": 76,
   "metadata": {
    "ExecuteTime": {
     "end_time": "2021-11-16T17:59:52.227379Z",
     "start_time": "2021-11-16T17:59:52.213383Z"
    },
    "deletable": false,
    "nbgrader": {
     "cell_type": "code",
     "checksum": "f34a4bea64292cb1700c32850b6d784d",
     "grade": false,
     "grade_id": "assistance6-calc_distance",
     "locked": false,
     "schema_version": 3,
     "solution": true,
     "task": false
    }
   },
   "outputs": [],
   "source": [
    "# 6. calc_distance (optional assitance for your solution)\n",
    "# ====>>> YOUR ACTIONS: (optional) IMPLEMENT & RUN \n",
    "\n",
    "# ---- Add assistance code here IF NEEDED:\n",
    "# YOUR CODE HERE\n"
   ]
  },
  {
   "cell_type": "markdown",
   "metadata": {
    "deletable": false,
    "editable": false,
    "nbgrader": {
     "cell_type": "markdown",
     "checksum": "7d88546d5a7ef7c40dc9fee2969de910",
     "grade": false,
     "grade_id": "cell-d3c32b535a31c6e0",
     "locked": true,
     "schema_version": 3,
     "solution": false,
     "task": false
    }
   },
   "source": [
    "##### 6. calc_distance - Implement and Run the following code cell:"
   ]
  },
  {
   "cell_type": "code",
   "execution_count": 77,
   "metadata": {
    "ExecuteTime": {
     "end_time": "2021-11-16T17:59:52.243412Z",
     "start_time": "2021-11-16T17:59:52.228379Z"
    },
    "deletable": false,
    "nbgrader": {
     "cell_type": "code",
     "checksum": "228fbf098710451f7fc787c8df5afaa2",
     "grade": false,
     "grade_id": "solution6-calc_distance",
     "locked": false,
     "schema_version": 3,
     "solution": true,
     "task": false
    }
   },
   "outputs": [],
   "source": [
    "# 6. calc_distance (your solution)\n",
    "# ====>>> YOUR ACTIONS: IMPLEMENT & RUN \n",
    "\n",
    "def calc_distance(X_test,X_train):\n",
    "    a=len(list(X_train.index))\n",
    "    b=len(list(X_test.index))\n",
    "    df_dist = pd.DataFrame(index=X_test.index,columns=X_train.index)\n",
    "    for i in range(0,a):\n",
    "        for j in range(0,b):\n",
    "            df_dist.iloc[j,i]=math.sqrt(pow((X_train.iloc[i,0]-X_test.iloc[j,0]),2)+pow((X_train.iloc[i,1]-X_test.iloc[j,1]),2)+pow((X_train.iloc[i,2]-X_test.iloc[j,2]),2))\n",
    "    return df_dist\n",
    "    "
   ]
  },
  {
   "cell_type": "markdown",
   "metadata": {
    "deletable": false,
    "editable": false,
    "nbgrader": {
     "cell_type": "markdown",
     "checksum": "2cec127928b1ffbd026fb19d01368215",
     "grade": false,
     "grade_id": "cell-2be4e32d8270172f",
     "locked": true,
     "schema_version": 3,
     "solution": false,
     "task": false
    }
   },
   "source": [
    "##### 6. calc_distance - OPTIONAL SELF TEST - Implement & Run the following cell (IF NEEDED):"
   ]
  },
  {
   "cell_type": "code",
   "execution_count": 78,
   "metadata": {
    "ExecuteTime": {
     "end_time": "2021-11-16T17:59:53.044102Z",
     "start_time": "2021-11-16T17:59:52.244380Z"
    },
    "deletable": false,
    "nbgrader": {
     "cell_type": "code",
     "checksum": "bf5b2ab16c10ea27014a491564b796d5",
     "grade": false,
     "grade_id": "cell-dc7df3a6321e37c9",
     "locked": false,
     "schema_version": 3,
     "solution": true,
     "task": false
    }
   },
   "outputs": [
    {
     "data": {
      "text/html": [
       "<div>\n",
       "<style scoped>\n",
       "    .dataframe tbody tr th:only-of-type {\n",
       "        vertical-align: middle;\n",
       "    }\n",
       "\n",
       "    .dataframe tbody tr th {\n",
       "        vertical-align: top;\n",
       "    }\n",
       "\n",
       "    .dataframe thead th {\n",
       "        text-align: right;\n",
       "    }\n",
       "</style>\n",
       "<table border=\"1\" class=\"dataframe\">\n",
       "  <thead>\n",
       "    <tr style=\"text-align: right;\">\n",
       "      <th></th>\n",
       "      <th>0</th>\n",
       "      <th>1</th>\n",
       "      <th>2</th>\n",
       "      <th>3</th>\n",
       "      <th>4</th>\n",
       "      <th>5</th>\n",
       "      <th>6</th>\n",
       "      <th>7</th>\n",
       "      <th>8</th>\n",
       "      <th>9</th>\n",
       "      <th>...</th>\n",
       "      <th>70</th>\n",
       "      <th>71</th>\n",
       "      <th>72</th>\n",
       "      <th>73</th>\n",
       "      <th>74</th>\n",
       "      <th>75</th>\n",
       "      <th>76</th>\n",
       "      <th>77</th>\n",
       "      <th>78</th>\n",
       "      <th>79</th>\n",
       "    </tr>\n",
       "  </thead>\n",
       "  <tbody>\n",
       "    <tr>\n",
       "      <th>80</th>\n",
       "      <td>0.289321</td>\n",
       "      <td>0.222091</td>\n",
       "      <td>0.200563</td>\n",
       "      <td>0.400152</td>\n",
       "      <td>0.807372</td>\n",
       "      <td>0.585328</td>\n",
       "      <td>0.340519</td>\n",
       "      <td>0.28007</td>\n",
       "      <td>0.512949</td>\n",
       "      <td>0.158517</td>\n",
       "      <td>...</td>\n",
       "      <td>0.408662</td>\n",
       "      <td>0.390746</td>\n",
       "      <td>0.466633</td>\n",
       "      <td>0.800188</td>\n",
       "      <td>0.086653</td>\n",
       "      <td>0.413886</td>\n",
       "      <td>0.442941</td>\n",
       "      <td>0.507471</td>\n",
       "      <td>0.411072</td>\n",
       "      <td>0.253118</td>\n",
       "    </tr>\n",
       "    <tr>\n",
       "      <th>81</th>\n",
       "      <td>0.725869</td>\n",
       "      <td>0.628981</td>\n",
       "      <td>0.565881</td>\n",
       "      <td>0.768361</td>\n",
       "      <td>1.025768</td>\n",
       "      <td>0.477315</td>\n",
       "      <td>0.695094</td>\n",
       "      <td>0.698599</td>\n",
       "      <td>0.688077</td>\n",
       "      <td>0.340323</td>\n",
       "      <td>...</td>\n",
       "      <td>0.736005</td>\n",
       "      <td>0.754613</td>\n",
       "      <td>0.870759</td>\n",
       "      <td>0.674558</td>\n",
       "      <td>0.379161</td>\n",
       "      <td>0.798615</td>\n",
       "      <td>0.814107</td>\n",
       "      <td>0.616724</td>\n",
       "      <td>0.498904</td>\n",
       "      <td>0.431723</td>\n",
       "    </tr>\n",
       "    <tr>\n",
       "      <th>82</th>\n",
       "      <td>0.531697</td>\n",
       "      <td>0.594929</td>\n",
       "      <td>0.360149</td>\n",
       "      <td>0.470286</td>\n",
       "      <td>0.570787</td>\n",
       "      <td>0.308729</td>\n",
       "      <td>0.332026</td>\n",
       "      <td>0.624398</td>\n",
       "      <td>0.220871</td>\n",
       "      <td>0.486714</td>\n",
       "      <td>...</td>\n",
       "      <td>0.731694</td>\n",
       "      <td>0.581753</td>\n",
       "      <td>0.509919</td>\n",
       "      <td>0.876252</td>\n",
       "      <td>0.379465</td>\n",
       "      <td>0.488464</td>\n",
       "      <td>0.579856</td>\n",
       "      <td>0.13061</td>\n",
       "      <td>0.078224</td>\n",
       "      <td>0.443268</td>\n",
       "    </tr>\n",
       "    <tr>\n",
       "      <th>83</th>\n",
       "      <td>0.478264</td>\n",
       "      <td>0.386251</td>\n",
       "      <td>0.433914</td>\n",
       "      <td>0.577701</td>\n",
       "      <td>1.13466</td>\n",
       "      <td>0.77006</td>\n",
       "      <td>0.65914</td>\n",
       "      <td>0.440222</td>\n",
       "      <td>0.831497</td>\n",
       "      <td>0.227419</td>\n",
       "      <td>...</td>\n",
       "      <td>0.555916</td>\n",
       "      <td>0.650275</td>\n",
       "      <td>0.747872</td>\n",
       "      <td>0.944582</td>\n",
       "      <td>0.338071</td>\n",
       "      <td>0.600295</td>\n",
       "      <td>0.715971</td>\n",
       "      <td>0.803884</td>\n",
       "      <td>0.682447</td>\n",
       "      <td>0.31935</td>\n",
       "    </tr>\n",
       "    <tr>\n",
       "      <th>84</th>\n",
       "      <td>0.301623</td>\n",
       "      <td>0.230471</td>\n",
       "      <td>0.272043</td>\n",
       "      <td>0.436083</td>\n",
       "      <td>0.650466</td>\n",
       "      <td>0.620448</td>\n",
       "      <td>0.207532</td>\n",
       "      <td>0.264892</td>\n",
       "      <td>0.401261</td>\n",
       "      <td>0.33057</td>\n",
       "      <td>...</td>\n",
       "      <td>0.33854</td>\n",
       "      <td>0.239191</td>\n",
       "      <td>0.343631</td>\n",
       "      <td>0.740308</td>\n",
       "      <td>0.228595</td>\n",
       "      <td>0.433674</td>\n",
       "      <td>0.282964</td>\n",
       "      <td>0.439583</td>\n",
       "      <td>0.39163</td>\n",
       "      <td>0.409569</td>\n",
       "    </tr>\n",
       "    <tr>\n",
       "      <th>85</th>\n",
       "      <td>0.654129</td>\n",
       "      <td>0.439077</td>\n",
       "      <td>0.646223</td>\n",
       "      <td>0.825875</td>\n",
       "      <td>1.116999</td>\n",
       "      <td>0.899052</td>\n",
       "      <td>0.726543</td>\n",
       "      <td>0.497371</td>\n",
       "      <td>0.867209</td>\n",
       "      <td>0.427191</td>\n",
       "      <td>...</td>\n",
       "      <td>0.430069</td>\n",
       "      <td>0.595416</td>\n",
       "      <td>0.821104</td>\n",
       "      <td>0.666207</td>\n",
       "      <td>0.483559</td>\n",
       "      <td>0.834661</td>\n",
       "      <td>0.679357</td>\n",
       "      <td>0.870911</td>\n",
       "      <td>0.782798</td>\n",
       "      <td>0.602229</td>\n",
       "    </tr>\n",
       "    <tr>\n",
       "      <th>86</th>\n",
       "      <td>0.386627</td>\n",
       "      <td>0.347135</td>\n",
       "      <td>0.238587</td>\n",
       "      <td>0.444418</td>\n",
       "      <td>0.723075</td>\n",
       "      <td>0.456829</td>\n",
       "      <td>0.312791</td>\n",
       "      <td>0.399821</td>\n",
       "      <td>0.398529</td>\n",
       "      <td>0.21991</td>\n",
       "      <td>...</td>\n",
       "      <td>0.493042</td>\n",
       "      <td>0.427072</td>\n",
       "      <td>0.485996</td>\n",
       "      <td>0.737421</td>\n",
       "      <td>0.105106</td>\n",
       "      <td>0.461907</td>\n",
       "      <td>0.467987</td>\n",
       "      <td>0.375428</td>\n",
       "      <td>0.27508</td>\n",
       "      <td>0.283002</td>\n",
       "    </tr>\n",
       "    <tr>\n",
       "      <th>87</th>\n",
       "      <td>0.405339</td>\n",
       "      <td>0.531879</td>\n",
       "      <td>0.258392</td>\n",
       "      <td>0.304067</td>\n",
       "      <td>0.603512</td>\n",
       "      <td>0.446897</td>\n",
       "      <td>0.268992</td>\n",
       "      <td>0.545772</td>\n",
       "      <td>0.310448</td>\n",
       "      <td>0.479552</td>\n",
       "      <td>...</td>\n",
       "      <td>0.697958</td>\n",
       "      <td>0.543197</td>\n",
       "      <td>0.401701</td>\n",
       "      <td>0.996291</td>\n",
       "      <td>0.373782</td>\n",
       "      <td>0.319145</td>\n",
       "      <td>0.531486</td>\n",
       "      <td>0.283449</td>\n",
       "      <td>0.244691</td>\n",
       "      <td>0.402605</td>\n",
       "    </tr>\n",
       "    <tr>\n",
       "      <th>88</th>\n",
       "      <td>0.664338</td>\n",
       "      <td>0.456864</td>\n",
       "      <td>0.645227</td>\n",
       "      <td>0.833783</td>\n",
       "      <td>0.876559</td>\n",
       "      <td>0.818178</td>\n",
       "      <td>0.597248</td>\n",
       "      <td>0.507779</td>\n",
       "      <td>0.677219</td>\n",
       "      <td>0.503303</td>\n",
       "      <td>...</td>\n",
       "      <td>0.367907</td>\n",
       "      <td>0.450846</td>\n",
       "      <td>0.710328</td>\n",
       "      <td>0.4195</td>\n",
       "      <td>0.484511</td>\n",
       "      <td>0.835155</td>\n",
       "      <td>0.526089</td>\n",
       "      <td>0.707758</td>\n",
       "      <td>0.663563</td>\n",
       "      <td>0.670901</td>\n",
       "    </tr>\n",
       "    <tr>\n",
       "      <th>89</th>\n",
       "      <td>0.237384</td>\n",
       "      <td>0.364308</td>\n",
       "      <td>0.345779</td>\n",
       "      <td>0.329318</td>\n",
       "      <td>0.600635</td>\n",
       "      <td>0.792038</td>\n",
       "      <td>0.197582</td>\n",
       "      <td>0.327949</td>\n",
       "      <td>0.47529</td>\n",
       "      <td>0.567495</td>\n",
       "      <td>...</td>\n",
       "      <td>0.469347</td>\n",
       "      <td>0.298345</td>\n",
       "      <td>0.072895</td>\n",
       "      <td>1.018658</td>\n",
       "      <td>0.47183</td>\n",
       "      <td>0.293385</td>\n",
       "      <td>0.258666</td>\n",
       "      <td>0.548287</td>\n",
       "      <td>0.545271</td>\n",
       "      <td>0.565017</td>\n",
       "    </tr>\n",
       "    <tr>\n",
       "      <th>90</th>\n",
       "      <td>0.591855</td>\n",
       "      <td>0.52666</td>\n",
       "      <td>0.418293</td>\n",
       "      <td>0.620836</td>\n",
       "      <td>0.896439</td>\n",
       "      <td>0.386266</td>\n",
       "      <td>0.546209</td>\n",
       "      <td>0.591618</td>\n",
       "      <td>0.550045</td>\n",
       "      <td>0.243613</td>\n",
       "      <td>...</td>\n",
       "      <td>0.65872</td>\n",
       "      <td>0.641534</td>\n",
       "      <td>0.72455</td>\n",
       "      <td>0.70703</td>\n",
       "      <td>0.243071</td>\n",
       "      <td>0.650227</td>\n",
       "      <td>0.692413</td>\n",
       "      <td>0.480231</td>\n",
       "      <td>0.354743</td>\n",
       "      <td>0.31439</td>\n",
       "    </tr>\n",
       "    <tr>\n",
       "      <th>91</th>\n",
       "      <td>0.59172</td>\n",
       "      <td>0.37112</td>\n",
       "      <td>0.583773</td>\n",
       "      <td>0.767981</td>\n",
       "      <td>0.999812</td>\n",
       "      <td>0.837745</td>\n",
       "      <td>0.625779</td>\n",
       "      <td>0.430429</td>\n",
       "      <td>0.761387</td>\n",
       "      <td>0.395036</td>\n",
       "      <td>...</td>\n",
       "      <td>0.344967</td>\n",
       "      <td>0.48955</td>\n",
       "      <td>0.72515</td>\n",
       "      <td>0.597931</td>\n",
       "      <td>0.421656</td>\n",
       "      <td>0.773619</td>\n",
       "      <td>0.573131</td>\n",
       "      <td>0.77496</td>\n",
       "      <td>0.698553</td>\n",
       "      <td>0.572497</td>\n",
       "    </tr>\n",
       "    <tr>\n",
       "      <th>92</th>\n",
       "      <td>0.438046</td>\n",
       "      <td>0.345364</td>\n",
       "      <td>0.349133</td>\n",
       "      <td>0.528045</td>\n",
       "      <td>1.016665</td>\n",
       "      <td>0.644546</td>\n",
       "      <td>0.557754</td>\n",
       "      <td>0.409325</td>\n",
       "      <td>0.702956</td>\n",
       "      <td>0.094117</td>\n",
       "      <td>...</td>\n",
       "      <td>0.518828</td>\n",
       "      <td>0.576766</td>\n",
       "      <td>0.674227</td>\n",
       "      <td>0.846736</td>\n",
       "      <td>0.210253</td>\n",
       "      <td>0.552323</td>\n",
       "      <td>0.640435</td>\n",
       "      <td>0.671133</td>\n",
       "      <td>0.549752</td>\n",
       "      <td>0.237877</td>\n",
       "    </tr>\n",
       "    <tr>\n",
       "      <th>93</th>\n",
       "      <td>0.468743</td>\n",
       "      <td>0.269279</td>\n",
       "      <td>0.445723</td>\n",
       "      <td>0.634316</td>\n",
       "      <td>0.852505</td>\n",
       "      <td>0.718334</td>\n",
       "      <td>0.465437</td>\n",
       "      <td>0.332984</td>\n",
       "      <td>0.604513</td>\n",
       "      <td>0.307437</td>\n",
       "      <td>...</td>\n",
       "      <td>0.292725</td>\n",
       "      <td>0.366554</td>\n",
       "      <td>0.579587</td>\n",
       "      <td>0.606911</td>\n",
       "      <td>0.291764</td>\n",
       "      <td>0.638929</td>\n",
       "      <td>0.445373</td>\n",
       "      <td>0.622384</td>\n",
       "      <td>0.55138</td>\n",
       "      <td>0.47204</td>\n",
       "    </tr>\n",
       "    <tr>\n",
       "      <th>94</th>\n",
       "      <td>0.418997</td>\n",
       "      <td>0.37755</td>\n",
       "      <td>0.310778</td>\n",
       "      <td>0.488474</td>\n",
       "      <td>0.595205</td>\n",
       "      <td>0.486397</td>\n",
       "      <td>0.235335</td>\n",
       "      <td>0.417891</td>\n",
       "      <td>0.291443</td>\n",
       "      <td>0.351196</td>\n",
       "      <td>...</td>\n",
       "      <td>0.472497</td>\n",
       "      <td>0.356589</td>\n",
       "      <td>0.423348</td>\n",
       "      <td>0.686063</td>\n",
       "      <td>0.235455</td>\n",
       "      <td>0.495342</td>\n",
       "      <td>0.385317</td>\n",
       "      <td>0.30549</td>\n",
       "      <td>0.256927</td>\n",
       "      <td>0.412294</td>\n",
       "    </tr>\n",
       "    <tr>\n",
       "      <th>95</th>\n",
       "      <td>0.709967</td>\n",
       "      <td>0.584357</td>\n",
       "      <td>0.578056</td>\n",
       "      <td>0.787315</td>\n",
       "      <td>0.863994</td>\n",
       "      <td>0.507765</td>\n",
       "      <td>0.600867</td>\n",
       "      <td>0.649671</td>\n",
       "      <td>0.565336</td>\n",
       "      <td>0.407546</td>\n",
       "      <td>...</td>\n",
       "      <td>0.630575</td>\n",
       "      <td>0.625945</td>\n",
       "      <td>0.780312</td>\n",
       "      <td>0.471278</td>\n",
       "      <td>0.388631</td>\n",
       "      <td>0.806622</td>\n",
       "      <td>0.682958</td>\n",
       "      <td>0.526169</td>\n",
       "      <td>0.44975</td>\n",
       "      <td>0.529914</td>\n",
       "    </tr>\n",
       "    <tr>\n",
       "      <th>96</th>\n",
       "      <td>0.642411</td>\n",
       "      <td>0.653478</td>\n",
       "      <td>0.619555</td>\n",
       "      <td>0.690588</td>\n",
       "      <td>0.197607</td>\n",
       "      <td>0.726746</td>\n",
       "      <td>0.333211</td>\n",
       "      <td>0.652704</td>\n",
       "      <td>0.252867</td>\n",
       "      <td>0.759302</td>\n",
       "      <td>...</td>\n",
       "      <td>0.650791</td>\n",
       "      <td>0.435359</td>\n",
       "      <td>0.404622</td>\n",
       "      <td>0.811114</td>\n",
       "      <td>0.63886</td>\n",
       "      <td>0.674136</td>\n",
       "      <td>0.387842</td>\n",
       "      <td>0.386646</td>\n",
       "      <td>0.488619</td>\n",
       "      <td>0.791243</td>\n",
       "    </tr>\n",
       "    <tr>\n",
       "      <th>97</th>\n",
       "      <td>0.488293</td>\n",
       "      <td>0.400494</td>\n",
       "      <td>0.361943</td>\n",
       "      <td>0.55744</td>\n",
       "      <td>0.984856</td>\n",
       "      <td>0.562079</td>\n",
       "      <td>0.5533</td>\n",
       "      <td>0.467632</td>\n",
       "      <td>0.656961</td>\n",
       "      <td>0.085482</td>\n",
       "      <td>...</td>\n",
       "      <td>0.559638</td>\n",
       "      <td>0.596004</td>\n",
       "      <td>0.693952</td>\n",
       "      <td>0.791115</td>\n",
       "      <td>0.187388</td>\n",
       "      <td>0.584702</td>\n",
       "      <td>0.657763</td>\n",
       "      <td>0.612946</td>\n",
       "      <td>0.48724</td>\n",
       "      <td>0.233855</td>\n",
       "    </tr>\n",
       "    <tr>\n",
       "      <th>98</th>\n",
       "      <td>0.603197</td>\n",
       "      <td>0.680965</td>\n",
       "      <td>0.389945</td>\n",
       "      <td>0.490041</td>\n",
       "      <td>0.815586</td>\n",
       "      <td>0.215253</td>\n",
       "      <td>0.524617</td>\n",
       "      <td>0.719766</td>\n",
       "      <td>0.469621</td>\n",
       "      <td>0.459029</td>\n",
       "      <td>...</td>\n",
       "      <td>0.862215</td>\n",
       "      <td>0.758383</td>\n",
       "      <td>0.686801</td>\n",
       "      <td>1.000856</td>\n",
       "      <td>0.402725</td>\n",
       "      <td>0.527589</td>\n",
       "      <td>0.770953</td>\n",
       "      <td>0.35721</td>\n",
       "      <td>0.241744</td>\n",
       "      <td>0.351835</td>\n",
       "    </tr>\n",
       "    <tr>\n",
       "      <th>99</th>\n",
       "      <td>0.379754</td>\n",
       "      <td>0.399697</td>\n",
       "      <td>0.420844</td>\n",
       "      <td>0.483435</td>\n",
       "      <td>0.453868</td>\n",
       "      <td>0.743667</td>\n",
       "      <td>0.139202</td>\n",
       "      <td>0.385143</td>\n",
       "      <td>0.35112</td>\n",
       "      <td>0.582391</td>\n",
       "      <td>...</td>\n",
       "      <td>0.430634</td>\n",
       "      <td>0.206868</td>\n",
       "      <td>0.165488</td>\n",
       "      <td>0.852024</td>\n",
       "      <td>0.47116</td>\n",
       "      <td>0.459642</td>\n",
       "      <td>0.154901</td>\n",
       "      <td>0.454244</td>\n",
       "      <td>0.482614</td>\n",
       "      <td>0.619292</td>\n",
       "    </tr>\n",
       "  </tbody>\n",
       "</table>\n",
       "<p>20 rows × 80 columns</p>\n",
       "</div>"
      ],
      "text/plain": [
       "          0         1         2         3         4         5         6   \\\n",
       "80  0.289321  0.222091  0.200563  0.400152  0.807372  0.585328  0.340519   \n",
       "81  0.725869  0.628981  0.565881  0.768361  1.025768  0.477315  0.695094   \n",
       "82  0.531697  0.594929  0.360149  0.470286  0.570787  0.308729  0.332026   \n",
       "83  0.478264  0.386251  0.433914  0.577701   1.13466   0.77006   0.65914   \n",
       "84  0.301623  0.230471  0.272043  0.436083  0.650466  0.620448  0.207532   \n",
       "85  0.654129  0.439077  0.646223  0.825875  1.116999  0.899052  0.726543   \n",
       "86  0.386627  0.347135  0.238587  0.444418  0.723075  0.456829  0.312791   \n",
       "87  0.405339  0.531879  0.258392  0.304067  0.603512  0.446897  0.268992   \n",
       "88  0.664338  0.456864  0.645227  0.833783  0.876559  0.818178  0.597248   \n",
       "89  0.237384  0.364308  0.345779  0.329318  0.600635  0.792038  0.197582   \n",
       "90  0.591855   0.52666  0.418293  0.620836  0.896439  0.386266  0.546209   \n",
       "91   0.59172   0.37112  0.583773  0.767981  0.999812  0.837745  0.625779   \n",
       "92  0.438046  0.345364  0.349133  0.528045  1.016665  0.644546  0.557754   \n",
       "93  0.468743  0.269279  0.445723  0.634316  0.852505  0.718334  0.465437   \n",
       "94  0.418997   0.37755  0.310778  0.488474  0.595205  0.486397  0.235335   \n",
       "95  0.709967  0.584357  0.578056  0.787315  0.863994  0.507765  0.600867   \n",
       "96  0.642411  0.653478  0.619555  0.690588  0.197607  0.726746  0.333211   \n",
       "97  0.488293  0.400494  0.361943   0.55744  0.984856  0.562079    0.5533   \n",
       "98  0.603197  0.680965  0.389945  0.490041  0.815586  0.215253  0.524617   \n",
       "99  0.379754  0.399697  0.420844  0.483435  0.453868  0.743667  0.139202   \n",
       "\n",
       "          7         8         9   ...        70        71        72        73  \\\n",
       "80   0.28007  0.512949  0.158517  ...  0.408662  0.390746  0.466633  0.800188   \n",
       "81  0.698599  0.688077  0.340323  ...  0.736005  0.754613  0.870759  0.674558   \n",
       "82  0.624398  0.220871  0.486714  ...  0.731694  0.581753  0.509919  0.876252   \n",
       "83  0.440222  0.831497  0.227419  ...  0.555916  0.650275  0.747872  0.944582   \n",
       "84  0.264892  0.401261   0.33057  ...   0.33854  0.239191  0.343631  0.740308   \n",
       "85  0.497371  0.867209  0.427191  ...  0.430069  0.595416  0.821104  0.666207   \n",
       "86  0.399821  0.398529   0.21991  ...  0.493042  0.427072  0.485996  0.737421   \n",
       "87  0.545772  0.310448  0.479552  ...  0.697958  0.543197  0.401701  0.996291   \n",
       "88  0.507779  0.677219  0.503303  ...  0.367907  0.450846  0.710328    0.4195   \n",
       "89  0.327949   0.47529  0.567495  ...  0.469347  0.298345  0.072895  1.018658   \n",
       "90  0.591618  0.550045  0.243613  ...   0.65872  0.641534   0.72455   0.70703   \n",
       "91  0.430429  0.761387  0.395036  ...  0.344967   0.48955   0.72515  0.597931   \n",
       "92  0.409325  0.702956  0.094117  ...  0.518828  0.576766  0.674227  0.846736   \n",
       "93  0.332984  0.604513  0.307437  ...  0.292725  0.366554  0.579587  0.606911   \n",
       "94  0.417891  0.291443  0.351196  ...  0.472497  0.356589  0.423348  0.686063   \n",
       "95  0.649671  0.565336  0.407546  ...  0.630575  0.625945  0.780312  0.471278   \n",
       "96  0.652704  0.252867  0.759302  ...  0.650791  0.435359  0.404622  0.811114   \n",
       "97  0.467632  0.656961  0.085482  ...  0.559638  0.596004  0.693952  0.791115   \n",
       "98  0.719766  0.469621  0.459029  ...  0.862215  0.758383  0.686801  1.000856   \n",
       "99  0.385143   0.35112  0.582391  ...  0.430634  0.206868  0.165488  0.852024   \n",
       "\n",
       "          74        75        76        77        78        79  \n",
       "80  0.086653  0.413886  0.442941  0.507471  0.411072  0.253118  \n",
       "81  0.379161  0.798615  0.814107  0.616724  0.498904  0.431723  \n",
       "82  0.379465  0.488464  0.579856   0.13061  0.078224  0.443268  \n",
       "83  0.338071  0.600295  0.715971  0.803884  0.682447   0.31935  \n",
       "84  0.228595  0.433674  0.282964  0.439583   0.39163  0.409569  \n",
       "85  0.483559  0.834661  0.679357  0.870911  0.782798  0.602229  \n",
       "86  0.105106  0.461907  0.467987  0.375428   0.27508  0.283002  \n",
       "87  0.373782  0.319145  0.531486  0.283449  0.244691  0.402605  \n",
       "88  0.484511  0.835155  0.526089  0.707758  0.663563  0.670901  \n",
       "89   0.47183  0.293385  0.258666  0.548287  0.545271  0.565017  \n",
       "90  0.243071  0.650227  0.692413  0.480231  0.354743   0.31439  \n",
       "91  0.421656  0.773619  0.573131   0.77496  0.698553  0.572497  \n",
       "92  0.210253  0.552323  0.640435  0.671133  0.549752  0.237877  \n",
       "93  0.291764  0.638929  0.445373  0.622384   0.55138   0.47204  \n",
       "94  0.235455  0.495342  0.385317   0.30549  0.256927  0.412294  \n",
       "95  0.388631  0.806622  0.682958  0.526169   0.44975  0.529914  \n",
       "96   0.63886  0.674136  0.387842  0.386646  0.488619  0.791243  \n",
       "97  0.187388  0.584702  0.657763  0.612946   0.48724  0.233855  \n",
       "98  0.402725  0.527589  0.770953   0.35721  0.241744  0.351835  \n",
       "99   0.47116  0.459642  0.154901  0.454244  0.482614  0.619292  \n",
       "\n",
       "[20 rows x 80 columns]"
      ]
     },
     "execution_count": 78,
     "metadata": {},
     "output_type": "execute_result"
    }
   ],
   "source": [
    "# 6. calc_distance (optional self testing)\n",
    "# ====>>> YOUR ACTIONS: (optional) IMPLEMENT & RUN \n",
    "\n",
    "file_name = 'data' + os.sep + 'Students-Performance_scaled_100.csv'\n",
    "y_col     = 'category'\n",
    "\n",
    "student_name, student_id = my_name(), my_id()\n",
    "assignment_params = get_assignment_params(student_id)\n",
    "X, y = load_dataset(file_name, y_col)\n",
    "X_train, y_train = X.iloc[:assignment_params['num_train2'],:],  y.iloc[:assignment_params['num_train2']]\n",
    "X_test, y_test = X.iloc[assignment_params['num_train2']:,:], y.iloc[assignment_params['num_train2']:]\n",
    "dist_dataframe = calc_distance(X_test,X_train)\n",
    "# --- add additional code to check your code if needed:\n",
    "dist_dataframe\n"
   ]
  },
  {
   "cell_type": "markdown",
   "metadata": {
    "deletable": false,
    "editable": false,
    "nbgrader": {
     "cell_type": "markdown",
     "checksum": "a273f30ba2745a88cc24bfb3b9ce2892",
     "grade": false,
     "grade_id": "cell-29be72f2fa6d3663",
     "locked": true,
     "schema_version": 3,
     "solution": false,
     "task": false
    }
   },
   "source": [
    "##### 6. calc_distance - GRADED TESTS -  Run the following (3) code cells:"
   ]
  },
  {
   "cell_type": "code",
   "execution_count": 79,
   "metadata": {
    "ExecuteTime": {
     "end_time": "2021-11-16T17:59:53.797797Z",
     "start_time": "2021-11-16T17:59:53.045069Z"
    },
    "deletable": false,
    "editable": false,
    "nbgrader": {
     "cell_type": "code",
     "checksum": "e22b8a528c6bb5442ee6041b7a7a40bc",
     "grade": true,
     "grade_id": "test6-1_calc_distance",
     "locked": true,
     "points": 0.1,
     "schema_version": 3,
     "solution": false,
     "task": false
    }
   },
   "outputs": [
    {
     "name": "stdout",
     "output_type": "stream",
     "text": [
      "6. 'calc_distance' - Test 1 (name: test6-1_calc_distance, points: 0.1) - Sanity\n",
      "\t\tTesing a 'euclidean' distance method ...\n",
      "\n",
      "Good Job!\n",
      "You've passed the 1st test for the 'calc_distance' function implementation :-)\n"
     ]
    }
   ],
   "source": [
    "# 6. calc_distance (graded test)\n",
    "# ====>>> YOUR ACTIONS: RUN ONLY\n",
    "\n",
    "print (\"6. 'calc_distance' - Test 1 (name: test6-1_calc_distance, points: 0.1) - Sanity\")\n",
    "\n",
    "file_name = 'data' + os.sep + 'Students-Performance_scaled_100.csv'\n",
    "y_col     = 'category'\n",
    "\n",
    "try:    \n",
    "    student_name, student_id = my_name(), my_id()\n",
    "    assert type(student_name) is str or type(student_id) is int, \"name is not a string or id is not an integer\"\n",
    "    assignment_params = get_assignment_params(student_id)\n",
    "    print (\"\\t\\tTesing a '\" + assignment_params['dist_method'] + \"' distance method ...\\n\")\n",
    "    X, y = load_dataset(file_name, y_col)\n",
    "    X_train, y_train = X.iloc[:assignment_params['num_train2'],:],  y.iloc[:assignment_params['num_train2']]\n",
    "    X_test, y_test = X.iloc[assignment_params['num_train2']:,:], y.iloc[assignment_params['num_train2']:]\n",
    "    dist_dataframe = calc_distance(X_test,X_train)\n",
    "except Exception as e:\n",
    "    print ('You probably have a syntax or implementation error,  \\nerror Message:',str(e), '\\nTry fixing your code')\n",
    "    raise\n",
    "\n",
    "\n",
    "print (\"Good Job!\\nYou've passed the 1st test for the 'calc_distance' function implementation :-)\")"
   ]
  },
  {
   "cell_type": "code",
   "execution_count": 80,
   "metadata": {
    "ExecuteTime": {
     "end_time": "2021-11-16T17:59:54.553854Z",
     "start_time": "2021-11-16T17:59:53.799799Z"
    },
    "deletable": false,
    "editable": false,
    "nbgrader": {
     "cell_type": "code",
     "checksum": "712cee5c7eee17842da0f07cfd640aba",
     "grade": true,
     "grade_id": "test6-2_calc_distance",
     "locked": true,
     "points": 0.9,
     "schema_version": 3,
     "solution": false,
     "task": false
    }
   },
   "outputs": [
    {
     "name": "stdout",
     "output_type": "stream",
     "text": [
      "6. 'calc_distance' - Test 2 (name: test6-2_calc_distance, points: 0.9)\n",
      "\t\tTesing a 'euclidean' distance method ...\n",
      "\n",
      "Good Job!\n",
      "You've passed the 2nd test for the 'calc_distance' function implementation :-)\n"
     ]
    }
   ],
   "source": [
    "# 6. calc_distance (graded test)\n",
    "# ====>>> YOUR ACTIONS: RUN ONLY\n",
    "\n",
    "print (\"6. 'calc_distance' - Test 2 (name: test6-2_calc_distance, points: 0.9)\")\n",
    "\n",
    "\n",
    "file_name = 'data' + os.sep + 'Students-Performance_scaled_100.csv'\n",
    "y_col     = 'category'\n",
    "\n",
    "try:    \n",
    "    student_name, student_id = my_name(), my_id()\n",
    "    assert type(student_name) is str or type(student_id) is int, \"name is not a string or id is not an integer\"\n",
    "    assignment_params = get_assignment_params(student_id)\n",
    "    print (\"\\t\\tTesing a '\" + assignment_params['dist_method'] + \"' distance method ...\\n\")\n",
    "    X, y = load_dataset(file_name, y_col)\n",
    "    X_train, y_train = X.iloc[:assignment_params['num_train2'],:],  y.iloc[:assignment_params['num_train2']]\n",
    "    X_test, y_test = X.iloc[assignment_params['num_train2']:,:], y.iloc[assignment_params['num_train2']:]\n",
    "    dist_dataframe = calc_distance(X_test,X_train)\n",
    "except Exception as e:\n",
    "    print ('You probably have a syntax or implementation error,  \\nerror Message:',str(e), '\\nTry fixing your code')\n",
    "    raise\n",
    "\n",
    "assert dist_dataframe.shape[0] == X_test.shape[0] and dist_dataframe.shape[1] == X_train.shape[0], 'Mismatch shape of distance dataframes with test and train datasets'\n",
    "np.testing.assert_array_equal(dist_dataframe.index, X_test.index, 'Index of distance dataframe should match test index')\n",
    "np.testing.assert_array_equal(dist_dataframe.columns, X_train.index, 'Column index of distance dataframe should match training index')\n",
    "\n",
    "print (\"Good Job!\\nYou've passed the 2nd test for the 'calc_distance' function implementation :-)\")"
   ]
  },
  {
   "cell_type": "code",
   "execution_count": 81,
   "metadata": {
    "ExecuteTime": {
     "end_time": "2021-11-16T17:59:55.369466Z",
     "start_time": "2021-11-16T17:59:54.555854Z"
    },
    "deletable": false,
    "editable": false,
    "nbgrader": {
     "cell_type": "code",
     "checksum": "d2de96bd5da058d459209601eca1b776",
     "grade": true,
     "grade_id": "test6-3_calc_distance",
     "locked": true,
     "points": 1,
     "schema_version": 3,
     "solution": false,
     "task": false
    }
   },
   "outputs": [
    {
     "name": "stdout",
     "output_type": "stream",
     "text": [
      "6. 'calc_distance' - Test 3 (name: test6-3_calc_distance, points: 1)\n",
      "\t\tTesing a 'euclidean' distance method ...\n",
      "\n",
      "Good Job!\n",
      "You've passed the 3rd test for the 'calc_distance' function implementation :-)\n"
     ]
    }
   ],
   "source": [
    "# 6. calc_distance (graded test)\n",
    "# ====>>> YOUR ACTIONS: RUN ONLY\n",
    "\n",
    "print (\"6. 'calc_distance' - Test 3 (name: test6-3_calc_distance, points: 1)\")\n",
    "\n",
    "\n",
    "file_name = 'data' + os.sep + 'Students-Performance_scaled_100.csv'\n",
    "y_col     = 'category'\n",
    "\n",
    "try:    \n",
    "    student_name, student_id = my_name(), my_id()\n",
    "    assert type(student_name) is str or type(student_id) is int, \"name is not a string or id is not an integer\"\n",
    "    assignment_params = get_assignment_params(student_id)\n",
    "    print (\"\\t\\tTesing a '\" + assignment_params['dist_method'] + \"' distance method ...\\n\")\n",
    "    X, y = load_dataset(file_name, y_col)\n",
    "    X_train, y_train = X.iloc[:assignment_params['num_train2'],:],  y.iloc[:assignment_params['num_train2']]\n",
    "    X_test, y_test = X.iloc[assignment_params['num_train2']:,:], y.iloc[assignment_params['num_train2']:]\n",
    "    dist_dataframe = calc_distance(X_test,X_train)\n",
    "except Exception as e:\n",
    "    print ('You probably have a syntax or implementation error,  \\nerror Message:',str(e), '\\nTry fixing your code')\n",
    "    raise\n",
    "mean_min_dist = dist_dataframe.min(axis=1).mean()\n",
    "mean_max_dist = dist_dataframe.max(axis=1).mean()\n",
    "mean_mean_dist = dist_dataframe.mean(axis=1).mean()\n",
    "if assignment_params['dist_method'] == 'chebyshev':\n",
    "    assert 0.7 < mean_max_dist and mean_max_dist < 0.8, \"Wrong distance values for 'chebyshev' distance\"\n",
    "    assert 0.34 < mean_mean_dist and mean_mean_dist < 0.44, \"Wrong distance values for 'chebyshev' distance\"\n",
    "elif assignment_params['dist_method'] == 'euclidean':\n",
    "    assert 0.87 < mean_max_dist and mean_max_dist < 0.97, \"Wrong distance values for 'euclidean' distance\"\n",
    "    assert 0.42 < mean_mean_dist and mean_mean_dist < 0.52, \"Wrong distance values for 'euclidean' distance\"\n",
    "else: # assignment_params['dist_method'] == 'manhattan':\n",
    "    assert 1.42 < mean_max_dist and mean_max_dist < 1.52, \"Wrong distance values for 'manhattan' distance\"\n",
    "    assert 0.67 < mean_mean_dist and mean_mean_dist < 0.77, \"Wrong distance values for 'manhattan' distance\"\n",
    "print (\"Good Job!\\nYou've passed the 3rd test for the 'calc_distance' function implementation :-)\")"
   ]
  },
  {
   "cell_type": "markdown",
   "metadata": {
    "deletable": false,
    "editable": false,
    "nbgrader": {
     "cell_type": "markdown",
     "checksum": "9ce2e4c2ac0a93b2c043f0992aa29cd6",
     "grade": false,
     "grade_id": "cell-45a0e25f22798604",
     "locked": true,
     "schema_version": 3,
     "solution": false,
     "task": false
    }
   },
   "source": [
    "[Go to the beginning of the assignment](#home)\n",
    "<a id=\"predict\"></a>\n",
    "### 7. KNN predict - main flow"
   ]
  },
  {
   "cell_type": "markdown",
   "metadata": {
    "deletable": false,
    "editable": false,
    "nbgrader": {
     "cell_type": "markdown",
     "checksum": "880c9b9db61c770ac4da1cad3287aa6d",
     "grade": false,
     "grade_id": "cell-f104eaaddeed63a8",
     "locked": true,
     "schema_version": 3,
     "solution": false,
     "task": false
    }
   },
   "source": [
    "<b>7. predict (KNN - main flow) - Permitted and illegal methods</b>:<br />\n",
    "<div class=\"alert alert-success\">\n",
    "&#x2714; You are expected to use the above 'calc_distance' function<br/>\n",
    "&#x2714; You can use any function that calculates minimum, maximum, top scores, sorting and so on<br/>\n",
    "&#x2714; You can use any function that calculates argmin, argmax, argsort and so on<br/>\n",
    "</div>\n",
    "<div class=\"alert alert-danger\">\n",
    "&#x2718; DON'T USE any function which performs KNN's main flow<br/>\n",
    "&#x2718; DON'T USE any function which performs a closer step towards KNN's main flow\n",
    "</div>"
   ]
  },
  {
   "cell_type": "markdown",
   "metadata": {
    "deletable": false,
    "editable": false,
    "nbgrader": {
     "cell_type": "markdown",
     "checksum": "49bd86e08142575eddf83a26910589c4",
     "grade": false,
     "grade_id": "cell-af16c972a039710a",
     "locked": true,
     "schema_version": 3,
     "solution": false,
     "task": false
    }
   },
   "source": [
    "### 7. predict\n",
    "<pre>\n",
    "input parameters:\n",
    "- X_test - the test set feature vector dataframe\n",
    "- X_train - the train set feature vector dataframe\n",
    "- y_train - the train set category series \n",
    "- k - the number of Nearest Neighbors (we select the majority out of k votes)\n",
    "------------\n",
    "The function should return a series consisting of the predicted category series. \n",
    "   * Use the above 'calc_distance' function, to get the distance, between \n",
    "     the test feature vector, to each of the training feature vectors.\n",
    "   * the returned series, should contain an index, which is equal to the X_test index.\n",
    "-----\n",
    "An example of a return statement:</pre>\n",
    "<code>    return y_predicted</code>"
   ]
  },
  {
   "cell_type": "markdown",
   "metadata": {
    "deletable": false,
    "editable": false,
    "nbgrader": {
     "cell_type": "markdown",
     "checksum": "222ce9f6f5748d22629a5e8a7cf09506",
     "grade": false,
     "grade_id": "cell-c2803067514e606c",
     "locked": true,
     "schema_version": 3,
     "solution": false,
     "task": false
    }
   },
   "source": [
    "##### 7. predict - OPTIONAL  ASSISTANCE  - Implement & Run the following code cell (IF NEEDED):"
   ]
  },
  {
   "cell_type": "code",
   "execution_count": 82,
   "metadata": {
    "ExecuteTime": {
     "end_time": "2021-11-16T17:59:55.385467Z",
     "start_time": "2021-11-16T17:59:55.372464Z"
    },
    "deletable": false,
    "nbgrader": {
     "cell_type": "code",
     "checksum": "ff8e60804b94c01d2909e7e52b8a6aeb",
     "grade": false,
     "grade_id": "assistance7-predict",
     "locked": false,
     "schema_version": 3,
     "solution": true,
     "task": false
    }
   },
   "outputs": [],
   "source": [
    "# 7. predict (optional assitance for your solution)\n",
    "# ====>>> YOUR ACTIONS: (optional) IMPLEMENT & RUN \n",
    "\n",
    "# ---- Add assistance code here IF NEEDED:\n",
    "# YOUR CODE HERE\n"
   ]
  },
  {
   "cell_type": "markdown",
   "metadata": {
    "deletable": false,
    "editable": false,
    "nbgrader": {
     "cell_type": "markdown",
     "checksum": "fe06aa6bcbe91b366d66a2c546b361c2",
     "grade": false,
     "grade_id": "cell-8d3f7316faebfb83",
     "locked": true,
     "schema_version": 3,
     "solution": false,
     "task": false
    }
   },
   "source": [
    "##### 7. predict - Implement and Run the following code cell:"
   ]
  },
  {
   "cell_type": "code",
   "execution_count": 83,
   "metadata": {
    "ExecuteTime": {
     "end_time": "2021-11-16T17:59:55.400464Z",
     "start_time": "2021-11-16T17:59:55.389466Z"
    },
    "deletable": false,
    "nbgrader": {
     "cell_type": "code",
     "checksum": "932f3b3fbbf5fc427e9ed3d98d996b7d",
     "grade": false,
     "grade_id": "solution7-predict",
     "locked": false,
     "schema_version": 3,
     "solution": true,
     "task": false
    }
   },
   "outputs": [],
   "source": [
    "# 7. predict (your solution)\n",
    "# ====>>> YOUR ACTIONS: IMPLEMENT & RUN \n",
    "\n",
    "def predict(X_test, X_train, y_train, k):\n",
    "    distDF=calc_distance(X_test,X_train)\n",
    "    cols=len(list(X_test.index))\n",
    "    fTrue=0\n",
    "    fFalse=0\n",
    "    y_predict=[]\n",
    "    for j in range(0,cols):\n",
    "        smallestKDist=np.argpartition(distDF.iloc[j],k)\n",
    "        for i in range(0,k):\n",
    "            if(y_train[smallestKDist[i]]==1):\n",
    "                fTrue+=1\n",
    "            else:\n",
    "                fFalse+=1\n",
    "        if(fTrue>fFalse):\n",
    "            y_predict.append(1)\n",
    "        else:\n",
    "            y_predict.append(0)\n",
    "        fTrue=fFalse=0\n",
    "    y_predicted=pd.Series(y_predict, index=X_test.index)\n",
    "    return y_predicted"
   ]
  },
  {
   "cell_type": "markdown",
   "metadata": {
    "deletable": false,
    "editable": false,
    "nbgrader": {
     "cell_type": "markdown",
     "checksum": "e4e8b009d80a991e80dfc97aa5599c2b",
     "grade": false,
     "grade_id": "cell-27ea620c8bd366e1",
     "locked": true,
     "schema_version": 3,
     "solution": false,
     "task": false
    }
   },
   "source": [
    "##### 7. predict - OPTIONAL SELF TEST - Implement & Run the following cell (IF NEEDED):"
   ]
  },
  {
   "cell_type": "code",
   "execution_count": 84,
   "metadata": {
    "ExecuteTime": {
     "end_time": "2021-11-16T17:59:56.280604Z",
     "start_time": "2021-11-16T17:59:55.403465Z"
    },
    "deletable": false,
    "nbgrader": {
     "cell_type": "code",
     "checksum": "4be0f32b07292edb0f6e3110908e58ca",
     "grade": false,
     "grade_id": "cell-bff25b1aa05713fb",
     "locked": false,
     "schema_version": 3,
     "solution": true,
     "task": false
    }
   },
   "outputs": [
    {
     "data": {
      "text/plain": [
       "80    0\n",
       "81    0\n",
       "82    0\n",
       "83    1\n",
       "84    0\n",
       "85    1\n",
       "86    1\n",
       "87    0\n",
       "88    0\n",
       "89    1\n",
       "90    0\n",
       "91    1\n",
       "92    0\n",
       "93    0\n",
       "94    0\n",
       "95    0\n",
       "96    0\n",
       "97    0\n",
       "98    0\n",
       "99    0\n",
       "dtype: int64"
      ]
     },
     "execution_count": 84,
     "metadata": {},
     "output_type": "execute_result"
    }
   ],
   "source": [
    "# 7. predict (optional self testing)\n",
    "# ====>>> YOUR ACTIONS: (optional) IMPLEMENT & RUN \n",
    "\n",
    "file_name = 'data' + os.sep + 'Students-Performance_scaled_100.csv'\n",
    "y_col     = 'category'\n",
    "\n",
    "student_name, student_id = my_name(), my_id()\n",
    "assignment_params = get_assignment_params(student_id)\n",
    "X, y = load_dataset(file_name, y_col)\n",
    "X_train, y_train = X.iloc[:assignment_params['num_train2'],:],  y.iloc[:assignment_params['num_train2']]\n",
    "X_test, y_test = X.iloc[assignment_params['num_train2']:,:], y.iloc[assignment_params['num_train2']:]\n",
    "y_predicted = predict(X_test, X_train, y_train, 1)\n",
    "# --- add additional code to check your code if needed:\n",
    "# YOUR CODE HERE\n",
    "y_predicted"
   ]
  },
  {
   "cell_type": "markdown",
   "metadata": {
    "deletable": false,
    "editable": false,
    "nbgrader": {
     "cell_type": "markdown",
     "checksum": "1b8a798fc9c2fbdf3ab4afbe2f0e043f",
     "grade": false,
     "grade_id": "cell-134442bd9a0d8e01",
     "locked": true,
     "schema_version": 3,
     "solution": false,
     "task": false
    }
   },
   "source": [
    "##### 7. predict - GRADED TESTS -  Run the following (3) code cells:"
   ]
  },
  {
   "cell_type": "code",
   "execution_count": 85,
   "metadata": {
    "ExecuteTime": {
     "end_time": "2021-11-16T17:59:57.065268Z",
     "start_time": "2021-11-16T17:59:56.281611Z"
    },
    "deletable": false,
    "editable": false,
    "nbgrader": {
     "cell_type": "code",
     "checksum": "45fb7d5109ef19f40dd9aafdeb952b0d",
     "grade": true,
     "grade_id": "test7-1_predict",
     "locked": true,
     "points": 0.1,
     "schema_version": 3,
     "solution": false,
     "task": false
    }
   },
   "outputs": [
    {
     "name": "stdout",
     "output_type": "stream",
     "text": [
      "7. 'predict' - Test 1 (name: test7-1_predict, points: 0.1) - Sanity\n",
      "\t\tTesing a 'euclidean' distance method ...\n",
      "\n",
      "Good Job!\n",
      "You've passed the 1st test for the 'predict' function implementation :-)\n"
     ]
    }
   ],
   "source": [
    "# 7. predict (graded test)\n",
    "# ====>>> YOUR ACTIONS: RUN ONLY\n",
    "\n",
    "print (\"7. 'predict' - Test 1 (name: test7-1_predict, points: 0.1) - Sanity\")\n",
    "file_name = 'data' + os.sep + 'Students-Performance_scaled_100.csv'\n",
    "y_col     = 'category'\n",
    "try:      \n",
    "    student_name, student_id = my_name(), my_id()\n",
    "    assert type(student_name) is str or type(student_id) is int, \"name is not a string or id is not an integer\"\n",
    "    assignment_params = get_assignment_params(student_id)    \n",
    "    print (\"\\t\\tTesing a '\" + assignment_params['dist_method'] + \"' distance method ...\\n\")\n",
    "    X, y = load_dataset(file_name, y_col)\n",
    "    X_train, y_train = X.iloc[:assignment_params['num_train2'],:],  y.iloc[:assignment_params['num_train2']]\n",
    "    X_test, y_test = X.iloc[assignment_params['num_train2']:,:], y.iloc[assignment_params['num_train2']:]\n",
    "    y_predicted = predict(X_test, X_train, y_train, 1)\n",
    "except Exception as e:\n",
    "    print ('You probably have a syntax or implementation error,  \\nerror Message:',str(e), '\\nTry fixing your code')\n",
    "    raise\n",
    "print (\"Good Job!\\nYou've passed the 1st test for the 'predict' function implementation :-)\")     "
   ]
  },
  {
   "cell_type": "code",
   "execution_count": 86,
   "metadata": {
    "ExecuteTime": {
     "end_time": "2021-11-16T17:59:57.848163Z",
     "start_time": "2021-11-16T17:59:57.067233Z"
    },
    "deletable": false,
    "editable": false,
    "nbgrader": {
     "cell_type": "code",
     "checksum": "11cae866f89748a3cb80838854041d34",
     "grade": true,
     "grade_id": "test7-2_predict",
     "locked": true,
     "points": 0.9,
     "schema_version": 3,
     "solution": false,
     "task": false
    }
   },
   "outputs": [
    {
     "name": "stdout",
     "output_type": "stream",
     "text": [
      "7. 'predict' - Test 2 (name: test7-2_predict, points: 0.9)\n",
      "\t\tTesing a 'euclidean' distance method ...\n",
      "\n",
      "Good Job!\n",
      "You've passed the 2nd test for the 'predict' function implementation :-)\n"
     ]
    }
   ],
   "source": [
    "# 7. predict (graded test)\n",
    "# ====>>> YOUR ACTIONS: RUN ONLY\n",
    "\n",
    "print (\"7. 'predict' - Test 2 (name: test7-2_predict, points: 0.9)\")\n",
    "\n",
    "file_name = 'data' + os.sep + 'Students-Performance_scaled_100.csv'\n",
    "y_col     = 'category'\n",
    "try:      \n",
    "    student_name, student_id = my_name(), my_id()\n",
    "    assert type(student_name) is str or type(student_id) is int, \"name is not a string or id is not an integer\"\n",
    "    assignment_params = get_assignment_params(student_id)    \n",
    "    print (\"\\t\\tTesing a '\" + assignment_params['dist_method'] + \"' distance method ...\\n\")\n",
    "    X, y = load_dataset(file_name, y_col)\n",
    "    X_train, y_train = X.iloc[:assignment_params['num_train2'],:],  y.iloc[:assignment_params['num_train2']]\n",
    "    X_test, y_test = X.iloc[assignment_params['num_train2']:,:], y.iloc[assignment_params['num_train2']:]\n",
    "    y_predicted = predict(X_test, X_train, y_train, 1)\n",
    "except Exception as e:\n",
    "    print ('You probably have a syntax or implementation error,  \\nerror Message:',str(e), '\\nTry fixing your code')\n",
    "    raise\n",
    "assert y_test.shape==y_predicted.shape,'Wrong shape for predicted series'\n",
    "np.testing.assert_array_equal(y_predicted.index, y_test.index, 'Index of predicted series should match test series')\n",
    "\n",
    "np.testing.assert_equal(np.any(np.not_equal(y_predicted.values,y_test.values)), True,'predicted and test series should not be identicle')\n",
    "print (\"Good Job!\\nYou've passed the 2nd test for the 'predict' function implementation :-)\")"
   ]
  },
  {
   "cell_type": "code",
   "execution_count": 87,
   "metadata": {
    "ExecuteTime": {
     "end_time": "2021-11-16T17:59:58.616867Z",
     "start_time": "2021-11-16T17:59:57.849190Z"
    },
    "deletable": false,
    "editable": false,
    "nbgrader": {
     "cell_type": "code",
     "checksum": "318e2ec5ae8beed08277ec1123dc1f8f",
     "grade": true,
     "grade_id": "test7-3_predict",
     "locked": true,
     "points": 1,
     "schema_version": 3,
     "solution": false,
     "task": false
    }
   },
   "outputs": [
    {
     "name": "stdout",
     "output_type": "stream",
     "text": [
      "7. 'predict' - Test 3 (name: test7-3_predict, points: 1)\n",
      "\t\tTesing a 'euclidean' distance method ...\n",
      "\n",
      "Good Job!\n",
      "You've passed the 3rd test for the 'predict' function implementation :-)\n"
     ]
    }
   ],
   "source": [
    "# 7. predict (graded test)\n",
    "# ====>>> YOUR ACTIONS: RUN ONLY\n",
    "\n",
    "print (\"7. 'predict' - Test 3 (name: test7-3_predict, points: 1)\")\n",
    "\n",
    "file_name = 'data' + os.sep + 'Students-Performance_scaled_100.csv'\n",
    "y_col     = 'category'\n",
    "try:      \n",
    "    student_name, student_id = my_name(), my_id()\n",
    "    assert type(student_name) is str or type(student_id) is int, \"name is not a string or id is not an integer\"\n",
    "    assignment_params = get_assignment_params(student_id)    \n",
    "    print (\"\\t\\tTesing a '\" + assignment_params['dist_method'] + \"' distance method ...\\n\")\n",
    "    X, y = load_dataset(file_name, y_col)\n",
    "    X_train, y_train = X.iloc[:assignment_params['num_train2'],:],  y.iloc[:assignment_params['num_train2']]\n",
    "    X_test, y_test = X.iloc[assignment_params['num_train2']:,:], y.iloc[assignment_params['num_train2']:]\n",
    "    y_predicted = predict(X_test, X_train, y_train, 1)\n",
    "except Exception as e:\n",
    "    print ('You probably have a syntax or implementation error,  \\nerror Message:',str(e), '\\nTry fixing your code')\n",
    "    raise\n",
    "eq_elements = sum(1 - np.abs(y_predicted.values - y_test.values))\n",
    "if assignment_params['dist_method'] == 'chebyshev':\n",
    "    assert 12 < eq_elements and eq_elements < 15, \"Wrong predict values for 'chebyshev' distance\"\n",
    "elif assignment_params['dist_method'] == 'euclidean':\n",
    "    assert 14 < eq_elements and eq_elements < 17, \"Wrong predict values for 'euclidean' distance\"\n",
    "else: # assignment_params['dist_method'] == 'manhattan':\n",
    "    assert 13 < eq_elements and eq_elements < 16, \"Wrong predict values for 'manhattan' distance\"\n",
    "\n",
    "print (\"Good Job!\\nYou've passed the 3rd test for the 'predict' function implementation :-)\")"
   ]
  },
  {
   "cell_type": "markdown",
   "metadata": {
    "deletable": false,
    "editable": false,
    "nbgrader": {
     "cell_type": "markdown",
     "checksum": "81ac51ed7da937bc49c8e337b0bfc43b",
     "grade": false,
     "grade_id": "cell-5052b3be7a9c7cc8",
     "locked": true,
     "schema_version": 3,
     "solution": false,
     "task": false
    }
   },
   "source": [
    "[Go to the beginning of the assignment](#home)\n",
    "<a id=\"evaluation\"></a>\n",
    "### 8. Evaluation\n",
    "##### Method names:\n",
    "* eval_performance"
   ]
  },
  {
   "cell_type": "markdown",
   "metadata": {
    "deletable": false,
    "editable": false,
    "nbgrader": {
     "cell_type": "markdown",
     "checksum": "e2bdae199139c158655e4d6f0ef68603",
     "grade": false,
     "grade_id": "cell-410ddbe88adbad72",
     "locked": true,
     "schema_version": 3,
     "solution": false,
     "task": false
    }
   },
   "source": [
    "##### 8. eval_performance - PERSONAL IMPLEMENTATION - Run the following code cell:"
   ]
  },
  {
   "cell_type": "code",
   "execution_count": 88,
   "metadata": {
    "ExecuteTime": {
     "end_time": "2021-11-16T17:59:58.632891Z",
     "start_time": "2021-11-16T17:59:58.618868Z"
    },
    "deletable": false,
    "editable": false,
    "nbgrader": {
     "cell_type": "code",
     "checksum": "9e19e368c38ea64331218feac4c43e37",
     "grade": false,
     "grade_id": "personal-implementation-eval",
     "locked": true,
     "schema_version": 3,
     "solution": false,
     "task": false
    }
   },
   "outputs": [
    {
     "name": "stdout",
     "output_type": "stream",
     "text": [
      "The evaluation metric you need to implement is: 'recall'\n"
     ]
    }
   ],
   "source": [
    "# 9. eval_performance (personal implementation info)\n",
    "# ====>>> YOUR ACTIONS: RUN ONLY\n",
    "\n",
    "try:    \n",
    "    student_name, student_id = my_name(), my_id()\n",
    "    assert type(student_name) is str or type(student_id) is int, \"name is not a string or id is not an integer\"\n",
    "    assignment_params = get_assignment_params(student_id)\n",
    "except Exception as e:\n",
    "    print ('You probably did not implement student-info functions, \\nerror Message:',str(e))\n",
    "    raise\n",
    "# ---------------------------\n",
    "                    \n",
    "print (\"The evaluation metric you need to implement is: '\" + assignment_params['eval_metric'] + \"'\")"
   ]
  },
  {
   "cell_type": "markdown",
   "metadata": {
    "deletable": false,
    "editable": false,
    "nbgrader": {
     "cell_type": "markdown",
     "checksum": "8de33442e3eb4dcfe947b4d6b9c786d8",
     "grade": false,
     "grade_id": "cell-2a061a2d178032fb",
     "locked": true,
     "schema_version": 3,
     "solution": false,
     "task": false
    }
   },
   "source": [
    "<b>8. eval_performance - Permitted and illegal methods</b>:<br />\n",
    "<div class=\"alert alert-success\">\n",
    "&#x2714; You can use any function that calculates basic vector or scalar mathematical function\n",
    "</div>\n",
    "<div class=\"alert alert-danger\">\n",
    "&#x2718; DON'T USE any function which performs any of the evaluation methods<br/>\n",
    "&#x2718; DON'T USE any function which performs a closer step towards the evaluation methods\n",
    "</div>"
   ]
  },
  {
   "cell_type": "markdown",
   "metadata": {
    "deletable": false,
    "editable": false,
    "nbgrader": {
     "cell_type": "markdown",
     "checksum": "2b1975158bad67f996a8517ba8f997e5",
     "grade": false,
     "grade_id": "cell-502359ba6243987a",
     "locked": true,
     "schema_version": 3,
     "solution": false,
     "task": false
    }
   },
   "source": [
    "### 8. eval_performance\n",
    "<pre>\n",
    "input parameters:\n",
    "- y_predicted -  a series of containing all predicted class values per test instance\n",
    "- y_test - a series of containing all actual class values per test instance\n",
    "------------\n",
    "The function should return a scalar (number) representing the performance evaluation metric (ASSIGNED TO YOU), corresponding to the input parameters. \n",
    "\n",
    "<b>Important Notes - <u>for those who need to implement precision or recall</u></b>:\n",
    "  * <u>The <b>positive</b> category value</u> refers to <u>the value <b>1</b></u>.\n",
    "  * <u>The <b>negative</b> category value</u> refers to <u>the value <b>0</b></u>.\n",
    "-----\n",
    "An example of a return statement:</pre>\n",
    "<code>    return evaluate_value</code>"
   ]
  },
  {
   "cell_type": "markdown",
   "metadata": {
    "deletable": false,
    "editable": false,
    "nbgrader": {
     "cell_type": "markdown",
     "checksum": "34d941c678a28d7a35b72aec9cdaa1f0",
     "grade": false,
     "grade_id": "cell-f859e544c79f1d05",
     "locked": true,
     "schema_version": 3,
     "solution": false,
     "task": false
    }
   },
   "source": [
    "##### 8. eval_performance - OPTIONAL ASSISTANCE  - Implement & Run the following code cell (IF NEEDED):"
   ]
  },
  {
   "cell_type": "code",
   "execution_count": 89,
   "metadata": {
    "ExecuteTime": {
     "end_time": "2021-11-16T17:59:58.647901Z",
     "start_time": "2021-11-16T17:59:58.634867Z"
    },
    "deletable": false,
    "nbgrader": {
     "cell_type": "code",
     "checksum": "3aa03334e0f09507873279f12823af8c",
     "grade": false,
     "grade_id": "assistance8-eval_performance",
     "locked": false,
     "schema_version": 3,
     "solution": true,
     "task": false
    }
   },
   "outputs": [],
   "source": [
    "#8. eval_performance (optional assitance for your solution)\n",
    "# ====>>> YOUR ACTIONS: (optional) IMPLEMENT & RUN \n",
    "\n",
    "# ---- Add assistance code here IF NEEDED:\n",
    "# YOUR CODE HERE\n"
   ]
  },
  {
   "cell_type": "markdown",
   "metadata": {
    "deletable": false,
    "editable": false,
    "nbgrader": {
     "cell_type": "markdown",
     "checksum": "07a671216f4258f48d343ec42207fa4e",
     "grade": false,
     "grade_id": "cell-f6ebd67c5f392c5d",
     "locked": true,
     "schema_version": 3,
     "solution": false,
     "task": false
    }
   },
   "source": [
    "##### 8. eval_performance - Implement and Run the following code cell:"
   ]
  },
  {
   "cell_type": "code",
   "execution_count": 90,
   "metadata": {
    "ExecuteTime": {
     "end_time": "2021-11-16T17:59:58.662872Z",
     "start_time": "2021-11-16T17:59:58.648869Z"
    },
    "deletable": false,
    "nbgrader": {
     "cell_type": "code",
     "checksum": "00d3ce6394b982fbef4b5deec9036a8c",
     "grade": false,
     "grade_id": "solution8-eval_performance",
     "locked": false,
     "schema_version": 3,
     "solution": true,
     "task": false
    }
   },
   "outputs": [],
   "source": [
    "# 8. eval_performance (your solution)\n",
    "# ====>>> YOUR ACTIONS: IMPLEMENT & RUN \n",
    "\n",
    "def eval_performance(y_predicted,y_test):\n",
    "    length=0\n",
    "    if(len(y_predicted)==len(y_test)):\n",
    "        length=len(y_predicted)\n",
    "    else:\n",
    "        length=min(len(y_predicted),len(y_test))\n",
    "    tp=0\n",
    "    fn=0\n",
    "    for i in range(0,length):\n",
    "        if((y_predicted.iloc[i]==1) & (y_test.iloc[i]==1)):\n",
    "            tp+=1\n",
    "        if((y_predicted.iloc[i]==0) & (y_test.iloc[i]==1)):\n",
    "            fn+=1\n",
    "    evaluate_value=tp/(tp+fn)\n",
    "    return evaluate_value\n",
    "    "
   ]
  },
  {
   "cell_type": "markdown",
   "metadata": {
    "deletable": false,
    "editable": false,
    "nbgrader": {
     "cell_type": "markdown",
     "checksum": "e791c1ff400e92acc536a87e04096503",
     "grade": false,
     "grade_id": "cell-5ba9b32604af6fc7",
     "locked": true,
     "schema_version": 3,
     "solution": false,
     "task": false
    }
   },
   "source": [
    "##### 8. eval_performance - OPTIONAL SELF TEST - Implement & Run the following cell (IF NEEDED):"
   ]
  },
  {
   "cell_type": "code",
   "execution_count": 91,
   "metadata": {
    "ExecuteTime": {
     "end_time": "2021-11-16T17:59:58.678890Z",
     "start_time": "2021-11-16T17:59:58.664906Z"
    },
    "deletable": false,
    "nbgrader": {
     "cell_type": "code",
     "checksum": "bce6be41313b4c44e42625c4a3124648",
     "grade": false,
     "grade_id": "cell-f3c2cfcdcc0fc1da",
     "locked": false,
     "schema_version": 3,
     "solution": true,
     "task": false
    }
   },
   "outputs": [],
   "source": [
    "# 8. eval_performance (optional self testing)\n",
    "# ====>>> YOUR ACTIONS: (optional) IMPLEMENT & RUN \n",
    "\n",
    "file_name = 'data' + os.sep + 'Students-Performance_scaled_100.csv'\n",
    "y_col     = 'category'\n",
    "student_name, student_id = my_name(), my_id()\n",
    "assignment_params = get_assignment_params(student_id)\n",
    "indx = [3,1,6,5,7,44,32,14,10,11]\n",
    "y_pred = pd.Series([1,1,1,0,1,0,1,0,1,0],index=indx)\n",
    "y_test = pd.Series([0,0,1,1,1,0,0,0,1,0],index=indx)\n",
    "eval_res = eval_performance(y_pred, y_test)\n",
    "# --- add additional code to check your code if needed:\n",
    "# YOUR CODE HERE\n",
    "\n"
   ]
  },
  {
   "cell_type": "markdown",
   "metadata": {
    "deletable": false,
    "editable": false,
    "nbgrader": {
     "cell_type": "markdown",
     "checksum": "e02c4e54623b7cc004fd78c0f94fc375",
     "grade": false,
     "grade_id": "cell-8129cc22e5824f03",
     "locked": true,
     "schema_version": 3,
     "solution": false,
     "task": false
    }
   },
   "source": [
    "##### 8. eval_performance - GRADED TESTS -  Run the following (2) code cells:"
   ]
  },
  {
   "cell_type": "code",
   "execution_count": 92,
   "metadata": {
    "ExecuteTime": {
     "end_time": "2021-11-16T17:59:58.694867Z",
     "start_time": "2021-11-16T17:59:58.680871Z"
    },
    "deletable": false,
    "editable": false,
    "nbgrader": {
     "cell_type": "code",
     "checksum": "2712961d1696a2e9475bbd31f248d1ca",
     "grade": true,
     "grade_id": "test8-1_eval_performance",
     "locked": true,
     "points": 0.1,
     "schema_version": 3,
     "solution": false,
     "task": false
    }
   },
   "outputs": [
    {
     "name": "stdout",
     "output_type": "stream",
     "text": [
      "8 'eval_performance' - Test 1 (name: test8-1_eval_performance, points: 0.1) - Sanity\n",
      "Part 9. - Test 1 (name: test9-1_eval_performance, points: 0.1) - Sanity\n",
      "\t--->Testing the implementation of 'eval_performance' ...\n",
      "\t\tTesing a 'recall' evaluation method ...\n",
      "\n",
      "Good Job!\n",
      "You've passed the 1st test for the 'eval_performance' function implementation :-)\n"
     ]
    }
   ],
   "source": [
    "# 8. eval_performance (graded test)\n",
    "# ====>>> YOUR ACTIONS: RUN ONLY\n",
    "\n",
    "print (\"8 'eval_performance' - Test 1 (name: test8-1_eval_performance, points: 0.1) - Sanity\")\n",
    "\n",
    "print (\"Part 9. - Test 1 (name: test9-1_eval_performance, points: 0.1) - Sanity\")\n",
    "print (\"\\t--->Testing the implementation of 'eval_performance' ...\")\n",
    "\n",
    "file_name = 'data' + os.sep + 'Students-Performance_numeric.csv'\n",
    "\n",
    "try:    \n",
    "    student_name, student_id = my_name(), my_id()\n",
    "    assert type(student_name) is str or type(student_id) is int, \"name is not a string or id is not an integer\"\n",
    "    assignment_params = get_assignment_params(student_id)\n",
    "    print (\"\\t\\tTesing a '\" + assignment_params['eval_metric'] + \"' evaluation method ...\\n\")\n",
    "    indx = [3,1,6,5,7,44,32,14,10,11]\n",
    "    y_pred = pd.Series([1,1,1,0,1,0,1,0,1,0],index=indx)\n",
    "    y_test = pd.Series([0,0,1,1,1,0,0,0,1,0],index=indx)\n",
    "    eval_res = eval_performance(y_pred, y_test)\n",
    "    \n",
    "except Exception as e:\n",
    "    print ('You probably have a syntax or implementation error,  \\nerror Message:',str(e), '\\nTry fixing your code')\n",
    "    raise\n",
    "\n",
    "print (\"Good Job!\\nYou've passed the 1st test for the 'eval_performance' function implementation :-)\")"
   ]
  },
  {
   "cell_type": "code",
   "execution_count": 93,
   "metadata": {
    "ExecuteTime": {
     "end_time": "2021-11-16T17:59:58.710867Z",
     "start_time": "2021-11-16T17:59:58.695868Z"
    },
    "deletable": false,
    "editable": false,
    "nbgrader": {
     "cell_type": "code",
     "checksum": "c3b3a447f32b0162d1c0d71f145361df",
     "grade": true,
     "grade_id": "test8-2_eval_performance",
     "locked": true,
     "points": 0.9,
     "schema_version": 3,
     "solution": false,
     "task": false
    }
   },
   "outputs": [
    {
     "name": "stdout",
     "output_type": "stream",
     "text": [
      "8. 'eval_performance' - Test 2 (name: test8-2_eval_performance, points: 0.9)\n",
      "\t\tTesing a 'recall' evaluation method ...\n",
      "\n",
      "Good Job!\n",
      "You've passed the 2nd test for the 'eval_performance' function implementation :-)\n"
     ]
    }
   ],
   "source": [
    "# 8. eval_performance (graded test)\n",
    "# ====>>> YOUR ACTIONS: RUN ONLY\n",
    "\n",
    "print (\"8. 'eval_performance' - Test 2 (name: test8-2_eval_performance, points: 0.9)\")\n",
    "\n",
    "file_name = 'data' + os.sep + 'Students-Performance_scaled_100.csv'\n",
    "y_col     = 'category'\n",
    "\n",
    "try:    \n",
    "    student_name, student_id = my_name(), my_id()\n",
    "    assert type(student_name) is str or type(student_id) is int, \"name is not a string or id is not an integer\"\n",
    "    assignment_params = get_assignment_params(student_id)\n",
    "    print (\"\\t\\tTesing a '\" + assignment_params['eval_metric'] + \"' evaluation method ...\\n\")\n",
    "    indx = [3,1,6,5,7,44,32,14,10,11]\n",
    "    y_pred = pd.Series([1,1,1,0,1,0,1,0,1,0],index=indx)\n",
    "    y_test = pd.Series([0,0,1,1,1,0,0,0,1,0],index=indx)\n",
    "    eval_res = eval_performance(y_pred, y_test)\n",
    "    \n",
    "except Exception as e:\n",
    "    print ('You probably have a syntax or implementation error,  \\nerror Message:',str(e), '\\nTry fixing your code')\n",
    "    raise\n",
    "    \n",
    "if assignment_params['eval_metric'] == 'precision':\n",
    "    assert eval_res == 0.5, 'Wrong precision value'\n",
    "elif assignment_params['eval_metric'] == 'recall':\n",
    "    assert eval_res == 0.75, 'Wrong recall value'\n",
    "elif assignment_params['eval_metric'] == 'accuracy':\n",
    "    assert eval_res == 0.6, 'Wrong accuracy value'\n",
    "else: # if assignment_params['eval_metric'] == 'error_rate':\n",
    "    assert eval_res == 0.4, 'Wrong error-rate value'\n",
    "    \n",
    "print (\"Good Job!\\nYou've passed the 2nd test for the 'eval_performance' function implementation :-)\")"
   ]
  },
  {
   "cell_type": "code",
   "execution_count": null,
   "metadata": {},
   "outputs": [],
   "source": []
  }
 ],
 "metadata": {
  "kernelspec": {
   "display_name": "Python 3 (ipykernel)",
   "language": "python",
   "name": "python3"
  },
  "language_info": {
   "codemirror_mode": {
    "name": "ipython",
    "version": 3
   },
   "file_extension": ".py",
   "mimetype": "text/x-python",
   "name": "python",
   "nbconvert_exporter": "python",
   "pygments_lexer": "ipython3",
   "version": "3.9.7"
  }
 },
 "nbformat": 4,
 "nbformat_minor": 4
}
